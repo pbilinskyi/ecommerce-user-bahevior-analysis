{
 "cells": [
  {
   "attachments": {},
   "cell_type": "markdown",
   "metadata": {},
   "source": [
    "# User Behavior\n",
    "\n",
    "Describe user behavior using:\n",
    "1. Product funnel. Comparison with benchmarks.\n",
    "2. User retention. Define _critical event_ and _product usage interval_.\n",
    "3. User active hours.\n",
    "4. Most profitable categories of goods.\n",
    "5. \"People buy together\" - find goods, that can be recommended to user."
   ]
  },
  {
   "cell_type": "code",
   "execution_count": 1,
   "metadata": {},
   "outputs": [],
   "source": [
    "%load_ext sql\n",
    "%config SqlMagic.autopandas = True\n",
    "\n",
    "# connect to local DuckDB database\n",
    "%sql duckdb://:@/ecommerce_store.duckdb"
   ]
  },
  {
   "attachments": {},
   "cell_type": "markdown",
   "metadata": {},
   "source": [
    "## Funnel"
   ]
  },
  {
   "cell_type": "code",
   "execution_count": 38,
   "metadata": {},
   "outputs": [
    {
     "name": "stdout",
     "output_type": "stream",
     "text": [
      "*  duckdb://:***@/ecommerce_store.duckdb\n",
      "Done.\n"
     ]
    }
   ],
   "source": [
    "%%sql df_funnel <<\n",
    "select count(case when is_view = 1 then user_id end)     as user_viewed_cnt,\n",
    "       count(case when is_cart = 1 then user_id end)     as user_carted_cnt,\n",
    "       count(case when is_purchase = 1 then user_id end) as user_purchased_cnt\n",
    "from user_stage_stat"
   ]
  },
  {
   "cell_type": "code",
   "execution_count": 39,
   "metadata": {},
   "outputs": [],
   "source": [
    "df_funnel = df_funnel.rename(columns={'user_viewed_cnt': 'Item view',\n",
    "                                      'user_carted_cnt': 'Cart',\n",
    "                                      'user_purchased_cnt': 'Purchase'})"
   ]
  },
  {
   "cell_type": "code",
   "execution_count": 40,
   "metadata": {},
   "outputs": [
    {
     "data": {
      "application/vnd.plotly.v1+json": {
       "config": {
        "plotlyServerURL": "https://plot.ly"
       },
       "data": [
        {
         "textinfo": "value+percent initial",
         "textposition": "inside",
         "type": "funnel",
         "x": [
          3696114,
          867912,
          441637
         ],
         "y": [
          "Item view",
          "Cart",
          "Purchase"
         ]
        }
       ],
       "layout": {
        "template": {
         "data": {
          "bar": [
           {
            "error_x": {
             "color": "#2a3f5f"
            },
            "error_y": {
             "color": "#2a3f5f"
            },
            "marker": {
             "line": {
              "color": "#E5ECF6",
              "width": 0.5
             },
             "pattern": {
              "fillmode": "overlay",
              "size": 10,
              "solidity": 0.2
             }
            },
            "type": "bar"
           }
          ],
          "barpolar": [
           {
            "marker": {
             "line": {
              "color": "#E5ECF6",
              "width": 0.5
             },
             "pattern": {
              "fillmode": "overlay",
              "size": 10,
              "solidity": 0.2
             }
            },
            "type": "barpolar"
           }
          ],
          "carpet": [
           {
            "aaxis": {
             "endlinecolor": "#2a3f5f",
             "gridcolor": "white",
             "linecolor": "white",
             "minorgridcolor": "white",
             "startlinecolor": "#2a3f5f"
            },
            "baxis": {
             "endlinecolor": "#2a3f5f",
             "gridcolor": "white",
             "linecolor": "white",
             "minorgridcolor": "white",
             "startlinecolor": "#2a3f5f"
            },
            "type": "carpet"
           }
          ],
          "choropleth": [
           {
            "colorbar": {
             "outlinewidth": 0,
             "ticks": ""
            },
            "type": "choropleth"
           }
          ],
          "contour": [
           {
            "colorbar": {
             "outlinewidth": 0,
             "ticks": ""
            },
            "colorscale": [
             [
              0,
              "#0d0887"
             ],
             [
              0.1111111111111111,
              "#46039f"
             ],
             [
              0.2222222222222222,
              "#7201a8"
             ],
             [
              0.3333333333333333,
              "#9c179e"
             ],
             [
              0.4444444444444444,
              "#bd3786"
             ],
             [
              0.5555555555555556,
              "#d8576b"
             ],
             [
              0.6666666666666666,
              "#ed7953"
             ],
             [
              0.7777777777777778,
              "#fb9f3a"
             ],
             [
              0.8888888888888888,
              "#fdca26"
             ],
             [
              1,
              "#f0f921"
             ]
            ],
            "type": "contour"
           }
          ],
          "contourcarpet": [
           {
            "colorbar": {
             "outlinewidth": 0,
             "ticks": ""
            },
            "type": "contourcarpet"
           }
          ],
          "heatmap": [
           {
            "colorbar": {
             "outlinewidth": 0,
             "ticks": ""
            },
            "colorscale": [
             [
              0,
              "#0d0887"
             ],
             [
              0.1111111111111111,
              "#46039f"
             ],
             [
              0.2222222222222222,
              "#7201a8"
             ],
             [
              0.3333333333333333,
              "#9c179e"
             ],
             [
              0.4444444444444444,
              "#bd3786"
             ],
             [
              0.5555555555555556,
              "#d8576b"
             ],
             [
              0.6666666666666666,
              "#ed7953"
             ],
             [
              0.7777777777777778,
              "#fb9f3a"
             ],
             [
              0.8888888888888888,
              "#fdca26"
             ],
             [
              1,
              "#f0f921"
             ]
            ],
            "type": "heatmap"
           }
          ],
          "heatmapgl": [
           {
            "colorbar": {
             "outlinewidth": 0,
             "ticks": ""
            },
            "colorscale": [
             [
              0,
              "#0d0887"
             ],
             [
              0.1111111111111111,
              "#46039f"
             ],
             [
              0.2222222222222222,
              "#7201a8"
             ],
             [
              0.3333333333333333,
              "#9c179e"
             ],
             [
              0.4444444444444444,
              "#bd3786"
             ],
             [
              0.5555555555555556,
              "#d8576b"
             ],
             [
              0.6666666666666666,
              "#ed7953"
             ],
             [
              0.7777777777777778,
              "#fb9f3a"
             ],
             [
              0.8888888888888888,
              "#fdca26"
             ],
             [
              1,
              "#f0f921"
             ]
            ],
            "type": "heatmapgl"
           }
          ],
          "histogram": [
           {
            "marker": {
             "pattern": {
              "fillmode": "overlay",
              "size": 10,
              "solidity": 0.2
             }
            },
            "type": "histogram"
           }
          ],
          "histogram2d": [
           {
            "colorbar": {
             "outlinewidth": 0,
             "ticks": ""
            },
            "colorscale": [
             [
              0,
              "#0d0887"
             ],
             [
              0.1111111111111111,
              "#46039f"
             ],
             [
              0.2222222222222222,
              "#7201a8"
             ],
             [
              0.3333333333333333,
              "#9c179e"
             ],
             [
              0.4444444444444444,
              "#bd3786"
             ],
             [
              0.5555555555555556,
              "#d8576b"
             ],
             [
              0.6666666666666666,
              "#ed7953"
             ],
             [
              0.7777777777777778,
              "#fb9f3a"
             ],
             [
              0.8888888888888888,
              "#fdca26"
             ],
             [
              1,
              "#f0f921"
             ]
            ],
            "type": "histogram2d"
           }
          ],
          "histogram2dcontour": [
           {
            "colorbar": {
             "outlinewidth": 0,
             "ticks": ""
            },
            "colorscale": [
             [
              0,
              "#0d0887"
             ],
             [
              0.1111111111111111,
              "#46039f"
             ],
             [
              0.2222222222222222,
              "#7201a8"
             ],
             [
              0.3333333333333333,
              "#9c179e"
             ],
             [
              0.4444444444444444,
              "#bd3786"
             ],
             [
              0.5555555555555556,
              "#d8576b"
             ],
             [
              0.6666666666666666,
              "#ed7953"
             ],
             [
              0.7777777777777778,
              "#fb9f3a"
             ],
             [
              0.8888888888888888,
              "#fdca26"
             ],
             [
              1,
              "#f0f921"
             ]
            ],
            "type": "histogram2dcontour"
           }
          ],
          "mesh3d": [
           {
            "colorbar": {
             "outlinewidth": 0,
             "ticks": ""
            },
            "type": "mesh3d"
           }
          ],
          "parcoords": [
           {
            "line": {
             "colorbar": {
              "outlinewidth": 0,
              "ticks": ""
             }
            },
            "type": "parcoords"
           }
          ],
          "pie": [
           {
            "automargin": true,
            "type": "pie"
           }
          ],
          "scatter": [
           {
            "fillpattern": {
             "fillmode": "overlay",
             "size": 10,
             "solidity": 0.2
            },
            "type": "scatter"
           }
          ],
          "scatter3d": [
           {
            "line": {
             "colorbar": {
              "outlinewidth": 0,
              "ticks": ""
             }
            },
            "marker": {
             "colorbar": {
              "outlinewidth": 0,
              "ticks": ""
             }
            },
            "type": "scatter3d"
           }
          ],
          "scattercarpet": [
           {
            "marker": {
             "colorbar": {
              "outlinewidth": 0,
              "ticks": ""
             }
            },
            "type": "scattercarpet"
           }
          ],
          "scattergeo": [
           {
            "marker": {
             "colorbar": {
              "outlinewidth": 0,
              "ticks": ""
             }
            },
            "type": "scattergeo"
           }
          ],
          "scattergl": [
           {
            "marker": {
             "colorbar": {
              "outlinewidth": 0,
              "ticks": ""
             }
            },
            "type": "scattergl"
           }
          ],
          "scattermapbox": [
           {
            "marker": {
             "colorbar": {
              "outlinewidth": 0,
              "ticks": ""
             }
            },
            "type": "scattermapbox"
           }
          ],
          "scatterpolar": [
           {
            "marker": {
             "colorbar": {
              "outlinewidth": 0,
              "ticks": ""
             }
            },
            "type": "scatterpolar"
           }
          ],
          "scatterpolargl": [
           {
            "marker": {
             "colorbar": {
              "outlinewidth": 0,
              "ticks": ""
             }
            },
            "type": "scatterpolargl"
           }
          ],
          "scatterternary": [
           {
            "marker": {
             "colorbar": {
              "outlinewidth": 0,
              "ticks": ""
             }
            },
            "type": "scatterternary"
           }
          ],
          "surface": [
           {
            "colorbar": {
             "outlinewidth": 0,
             "ticks": ""
            },
            "colorscale": [
             [
              0,
              "#0d0887"
             ],
             [
              0.1111111111111111,
              "#46039f"
             ],
             [
              0.2222222222222222,
              "#7201a8"
             ],
             [
              0.3333333333333333,
              "#9c179e"
             ],
             [
              0.4444444444444444,
              "#bd3786"
             ],
             [
              0.5555555555555556,
              "#d8576b"
             ],
             [
              0.6666666666666666,
              "#ed7953"
             ],
             [
              0.7777777777777778,
              "#fb9f3a"
             ],
             [
              0.8888888888888888,
              "#fdca26"
             ],
             [
              1,
              "#f0f921"
             ]
            ],
            "type": "surface"
           }
          ],
          "table": [
           {
            "cells": {
             "fill": {
              "color": "#EBF0F8"
             },
             "line": {
              "color": "white"
             }
            },
            "header": {
             "fill": {
              "color": "#C8D4E3"
             },
             "line": {
              "color": "white"
             }
            },
            "type": "table"
           }
          ]
         },
         "layout": {
          "annotationdefaults": {
           "arrowcolor": "#2a3f5f",
           "arrowhead": 0,
           "arrowwidth": 1
          },
          "autotypenumbers": "strict",
          "coloraxis": {
           "colorbar": {
            "outlinewidth": 0,
            "ticks": ""
           }
          },
          "colorscale": {
           "diverging": [
            [
             0,
             "#8e0152"
            ],
            [
             0.1,
             "#c51b7d"
            ],
            [
             0.2,
             "#de77ae"
            ],
            [
             0.3,
             "#f1b6da"
            ],
            [
             0.4,
             "#fde0ef"
            ],
            [
             0.5,
             "#f7f7f7"
            ],
            [
             0.6,
             "#e6f5d0"
            ],
            [
             0.7,
             "#b8e186"
            ],
            [
             0.8,
             "#7fbc41"
            ],
            [
             0.9,
             "#4d9221"
            ],
            [
             1,
             "#276419"
            ]
           ],
           "sequential": [
            [
             0,
             "#0d0887"
            ],
            [
             0.1111111111111111,
             "#46039f"
            ],
            [
             0.2222222222222222,
             "#7201a8"
            ],
            [
             0.3333333333333333,
             "#9c179e"
            ],
            [
             0.4444444444444444,
             "#bd3786"
            ],
            [
             0.5555555555555556,
             "#d8576b"
            ],
            [
             0.6666666666666666,
             "#ed7953"
            ],
            [
             0.7777777777777778,
             "#fb9f3a"
            ],
            [
             0.8888888888888888,
             "#fdca26"
            ],
            [
             1,
             "#f0f921"
            ]
           ],
           "sequentialminus": [
            [
             0,
             "#0d0887"
            ],
            [
             0.1111111111111111,
             "#46039f"
            ],
            [
             0.2222222222222222,
             "#7201a8"
            ],
            [
             0.3333333333333333,
             "#9c179e"
            ],
            [
             0.4444444444444444,
             "#bd3786"
            ],
            [
             0.5555555555555556,
             "#d8576b"
            ],
            [
             0.6666666666666666,
             "#ed7953"
            ],
            [
             0.7777777777777778,
             "#fb9f3a"
            ],
            [
             0.8888888888888888,
             "#fdca26"
            ],
            [
             1,
             "#f0f921"
            ]
           ]
          },
          "colorway": [
           "#636efa",
           "#EF553B",
           "#00cc96",
           "#ab63fa",
           "#FFA15A",
           "#19d3f3",
           "#FF6692",
           "#B6E880",
           "#FF97FF",
           "#FECB52"
          ],
          "font": {
           "color": "#2a3f5f"
          },
          "geo": {
           "bgcolor": "white",
           "lakecolor": "white",
           "landcolor": "#E5ECF6",
           "showlakes": true,
           "showland": true,
           "subunitcolor": "white"
          },
          "hoverlabel": {
           "align": "left"
          },
          "hovermode": "closest",
          "mapbox": {
           "style": "light"
          },
          "paper_bgcolor": "white",
          "plot_bgcolor": "#E5ECF6",
          "polar": {
           "angularaxis": {
            "gridcolor": "white",
            "linecolor": "white",
            "ticks": ""
           },
           "bgcolor": "#E5ECF6",
           "radialaxis": {
            "gridcolor": "white",
            "linecolor": "white",
            "ticks": ""
           }
          },
          "scene": {
           "xaxis": {
            "backgroundcolor": "#E5ECF6",
            "gridcolor": "white",
            "gridwidth": 2,
            "linecolor": "white",
            "showbackground": true,
            "ticks": "",
            "zerolinecolor": "white"
           },
           "yaxis": {
            "backgroundcolor": "#E5ECF6",
            "gridcolor": "white",
            "gridwidth": 2,
            "linecolor": "white",
            "showbackground": true,
            "ticks": "",
            "zerolinecolor": "white"
           },
           "zaxis": {
            "backgroundcolor": "#E5ECF6",
            "gridcolor": "white",
            "gridwidth": 2,
            "linecolor": "white",
            "showbackground": true,
            "ticks": "",
            "zerolinecolor": "white"
           }
          },
          "shapedefaults": {
           "line": {
            "color": "#2a3f5f"
           }
          },
          "ternary": {
           "aaxis": {
            "gridcolor": "white",
            "linecolor": "white",
            "ticks": ""
           },
           "baxis": {
            "gridcolor": "white",
            "linecolor": "white",
            "ticks": ""
           },
           "bgcolor": "#E5ECF6",
           "caxis": {
            "gridcolor": "white",
            "linecolor": "white",
            "ticks": ""
           }
          },
          "title": {
           "x": 0.05
          },
          "xaxis": {
           "automargin": true,
           "gridcolor": "white",
           "linecolor": "white",
           "ticks": "",
           "title": {
            "standoff": 15
           },
           "zerolinecolor": "white",
           "zerolinewidth": 2
          },
          "yaxis": {
           "automargin": true,
           "gridcolor": "white",
           "linecolor": "white",
           "ticks": "",
           "title": {
            "standoff": 15
           },
           "zerolinecolor": "white",
           "zerolinewidth": 2
          }
         }
        }
       }
      }
     },
     "metadata": {},
     "output_type": "display_data"
    }
   ],
   "source": [
    "from plotly import graph_objects as go\n",
    "\n",
    "\n",
    "def plot_funnel(df_funnel):\n",
    "    user_counts = df_funnel.values.ravel()\n",
    "    stages = df_funnel.columns\n",
    "    fig = go.Figure(go.Funnel(\n",
    "        y = stages,\n",
    "        x = user_counts,\n",
    "        textposition = \"inside\",\n",
    "        textinfo = \"value+percent initial\"))\n",
    "    return fig\n",
    "\n",
    "plot_funnel(df_funnel)"
   ]
  },
  {
   "attachments": {},
   "cell_type": "markdown",
   "metadata": {},
   "source": [
    "### _Analysis_\n",
    "\n",
    "To be able to analyse the Product Funnel, we need to estimate the _number of visitors_. Having this information, we would be able to compare ours metrics to the industry benchmarks.\n",
    "\n",
    "#### Estimation of the _# of visitors_.\n",
    "\n",
    "\n",
    "\n",
    "We will use the following formula:\n",
    "\n",
    "$$\n",
    "\\text{Total \\# of visitors} = \\frac{\\text{\\# of visitors with view}}{1 - \\text{Bounce Rate}}\n",
    "$$\n",
    "\n",
    "This works correctly under the assumptions:\n",
    "1. The visitor could either bounce or view some item, exclusively. That is, visitor with no item view = bounced visitor.\n",
    "2. Bounce Rate is equal to $35\\%$. \n",
    "    According to the SimilarWeb, this is the benchmark for the Bounce Rate in eCommerce industry ([link](https://www.similarweb.com/blog/ecommerce/retail-insights/ecommerce-benchmarks-metrics/)). "
   ]
  },
  {
   "cell_type": "code",
   "execution_count": 30,
   "metadata": {},
   "outputs": [
    {
     "name": "stdout",
     "output_type": "stream",
     "text": [
      "Total # of visitors:  5686329\n"
     ]
    }
   ],
   "source": [
    "n_visitors_not_bounced = 3696114\n",
    "bounce_rate_benchmark = .35\n",
    "n_visitors_total = int(n_visitors_not_bounced/(1 - bounce_rate_benchmark))\n",
    "\n",
    "print('Total # of visitors: ', n_visitors_total)"
   ]
  },
  {
   "attachments": {},
   "cell_type": "markdown",
   "metadata": {},
   "source": [
    "Let's complete the Product Funnel with this information:"
   ]
  },
  {
   "cell_type": "code",
   "execution_count": 41,
   "metadata": {},
   "outputs": [
    {
     "data": {
      "application/vnd.plotly.v1+json": {
       "config": {
        "plotlyServerURL": "https://plot.ly"
       },
       "data": [
        {
         "textinfo": "value+percent initial",
         "textposition": "inside",
         "type": "funnel",
         "x": [
          5686329,
          3696114,
          867912,
          441637
         ],
         "y": [
          "Visit",
          "Item view",
          "Cart",
          "Purchase"
         ]
        }
       ],
       "layout": {
        "template": {
         "data": {
          "bar": [
           {
            "error_x": {
             "color": "#2a3f5f"
            },
            "error_y": {
             "color": "#2a3f5f"
            },
            "marker": {
             "line": {
              "color": "#E5ECF6",
              "width": 0.5
             },
             "pattern": {
              "fillmode": "overlay",
              "size": 10,
              "solidity": 0.2
             }
            },
            "type": "bar"
           }
          ],
          "barpolar": [
           {
            "marker": {
             "line": {
              "color": "#E5ECF6",
              "width": 0.5
             },
             "pattern": {
              "fillmode": "overlay",
              "size": 10,
              "solidity": 0.2
             }
            },
            "type": "barpolar"
           }
          ],
          "carpet": [
           {
            "aaxis": {
             "endlinecolor": "#2a3f5f",
             "gridcolor": "white",
             "linecolor": "white",
             "minorgridcolor": "white",
             "startlinecolor": "#2a3f5f"
            },
            "baxis": {
             "endlinecolor": "#2a3f5f",
             "gridcolor": "white",
             "linecolor": "white",
             "minorgridcolor": "white",
             "startlinecolor": "#2a3f5f"
            },
            "type": "carpet"
           }
          ],
          "choropleth": [
           {
            "colorbar": {
             "outlinewidth": 0,
             "ticks": ""
            },
            "type": "choropleth"
           }
          ],
          "contour": [
           {
            "colorbar": {
             "outlinewidth": 0,
             "ticks": ""
            },
            "colorscale": [
             [
              0,
              "#0d0887"
             ],
             [
              0.1111111111111111,
              "#46039f"
             ],
             [
              0.2222222222222222,
              "#7201a8"
             ],
             [
              0.3333333333333333,
              "#9c179e"
             ],
             [
              0.4444444444444444,
              "#bd3786"
             ],
             [
              0.5555555555555556,
              "#d8576b"
             ],
             [
              0.6666666666666666,
              "#ed7953"
             ],
             [
              0.7777777777777778,
              "#fb9f3a"
             ],
             [
              0.8888888888888888,
              "#fdca26"
             ],
             [
              1,
              "#f0f921"
             ]
            ],
            "type": "contour"
           }
          ],
          "contourcarpet": [
           {
            "colorbar": {
             "outlinewidth": 0,
             "ticks": ""
            },
            "type": "contourcarpet"
           }
          ],
          "heatmap": [
           {
            "colorbar": {
             "outlinewidth": 0,
             "ticks": ""
            },
            "colorscale": [
             [
              0,
              "#0d0887"
             ],
             [
              0.1111111111111111,
              "#46039f"
             ],
             [
              0.2222222222222222,
              "#7201a8"
             ],
             [
              0.3333333333333333,
              "#9c179e"
             ],
             [
              0.4444444444444444,
              "#bd3786"
             ],
             [
              0.5555555555555556,
              "#d8576b"
             ],
             [
              0.6666666666666666,
              "#ed7953"
             ],
             [
              0.7777777777777778,
              "#fb9f3a"
             ],
             [
              0.8888888888888888,
              "#fdca26"
             ],
             [
              1,
              "#f0f921"
             ]
            ],
            "type": "heatmap"
           }
          ],
          "heatmapgl": [
           {
            "colorbar": {
             "outlinewidth": 0,
             "ticks": ""
            },
            "colorscale": [
             [
              0,
              "#0d0887"
             ],
             [
              0.1111111111111111,
              "#46039f"
             ],
             [
              0.2222222222222222,
              "#7201a8"
             ],
             [
              0.3333333333333333,
              "#9c179e"
             ],
             [
              0.4444444444444444,
              "#bd3786"
             ],
             [
              0.5555555555555556,
              "#d8576b"
             ],
             [
              0.6666666666666666,
              "#ed7953"
             ],
             [
              0.7777777777777778,
              "#fb9f3a"
             ],
             [
              0.8888888888888888,
              "#fdca26"
             ],
             [
              1,
              "#f0f921"
             ]
            ],
            "type": "heatmapgl"
           }
          ],
          "histogram": [
           {
            "marker": {
             "pattern": {
              "fillmode": "overlay",
              "size": 10,
              "solidity": 0.2
             }
            },
            "type": "histogram"
           }
          ],
          "histogram2d": [
           {
            "colorbar": {
             "outlinewidth": 0,
             "ticks": ""
            },
            "colorscale": [
             [
              0,
              "#0d0887"
             ],
             [
              0.1111111111111111,
              "#46039f"
             ],
             [
              0.2222222222222222,
              "#7201a8"
             ],
             [
              0.3333333333333333,
              "#9c179e"
             ],
             [
              0.4444444444444444,
              "#bd3786"
             ],
             [
              0.5555555555555556,
              "#d8576b"
             ],
             [
              0.6666666666666666,
              "#ed7953"
             ],
             [
              0.7777777777777778,
              "#fb9f3a"
             ],
             [
              0.8888888888888888,
              "#fdca26"
             ],
             [
              1,
              "#f0f921"
             ]
            ],
            "type": "histogram2d"
           }
          ],
          "histogram2dcontour": [
           {
            "colorbar": {
             "outlinewidth": 0,
             "ticks": ""
            },
            "colorscale": [
             [
              0,
              "#0d0887"
             ],
             [
              0.1111111111111111,
              "#46039f"
             ],
             [
              0.2222222222222222,
              "#7201a8"
             ],
             [
              0.3333333333333333,
              "#9c179e"
             ],
             [
              0.4444444444444444,
              "#bd3786"
             ],
             [
              0.5555555555555556,
              "#d8576b"
             ],
             [
              0.6666666666666666,
              "#ed7953"
             ],
             [
              0.7777777777777778,
              "#fb9f3a"
             ],
             [
              0.8888888888888888,
              "#fdca26"
             ],
             [
              1,
              "#f0f921"
             ]
            ],
            "type": "histogram2dcontour"
           }
          ],
          "mesh3d": [
           {
            "colorbar": {
             "outlinewidth": 0,
             "ticks": ""
            },
            "type": "mesh3d"
           }
          ],
          "parcoords": [
           {
            "line": {
             "colorbar": {
              "outlinewidth": 0,
              "ticks": ""
             }
            },
            "type": "parcoords"
           }
          ],
          "pie": [
           {
            "automargin": true,
            "type": "pie"
           }
          ],
          "scatter": [
           {
            "fillpattern": {
             "fillmode": "overlay",
             "size": 10,
             "solidity": 0.2
            },
            "type": "scatter"
           }
          ],
          "scatter3d": [
           {
            "line": {
             "colorbar": {
              "outlinewidth": 0,
              "ticks": ""
             }
            },
            "marker": {
             "colorbar": {
              "outlinewidth": 0,
              "ticks": ""
             }
            },
            "type": "scatter3d"
           }
          ],
          "scattercarpet": [
           {
            "marker": {
             "colorbar": {
              "outlinewidth": 0,
              "ticks": ""
             }
            },
            "type": "scattercarpet"
           }
          ],
          "scattergeo": [
           {
            "marker": {
             "colorbar": {
              "outlinewidth": 0,
              "ticks": ""
             }
            },
            "type": "scattergeo"
           }
          ],
          "scattergl": [
           {
            "marker": {
             "colorbar": {
              "outlinewidth": 0,
              "ticks": ""
             }
            },
            "type": "scattergl"
           }
          ],
          "scattermapbox": [
           {
            "marker": {
             "colorbar": {
              "outlinewidth": 0,
              "ticks": ""
             }
            },
            "type": "scattermapbox"
           }
          ],
          "scatterpolar": [
           {
            "marker": {
             "colorbar": {
              "outlinewidth": 0,
              "ticks": ""
             }
            },
            "type": "scatterpolar"
           }
          ],
          "scatterpolargl": [
           {
            "marker": {
             "colorbar": {
              "outlinewidth": 0,
              "ticks": ""
             }
            },
            "type": "scatterpolargl"
           }
          ],
          "scatterternary": [
           {
            "marker": {
             "colorbar": {
              "outlinewidth": 0,
              "ticks": ""
             }
            },
            "type": "scatterternary"
           }
          ],
          "surface": [
           {
            "colorbar": {
             "outlinewidth": 0,
             "ticks": ""
            },
            "colorscale": [
             [
              0,
              "#0d0887"
             ],
             [
              0.1111111111111111,
              "#46039f"
             ],
             [
              0.2222222222222222,
              "#7201a8"
             ],
             [
              0.3333333333333333,
              "#9c179e"
             ],
             [
              0.4444444444444444,
              "#bd3786"
             ],
             [
              0.5555555555555556,
              "#d8576b"
             ],
             [
              0.6666666666666666,
              "#ed7953"
             ],
             [
              0.7777777777777778,
              "#fb9f3a"
             ],
             [
              0.8888888888888888,
              "#fdca26"
             ],
             [
              1,
              "#f0f921"
             ]
            ],
            "type": "surface"
           }
          ],
          "table": [
           {
            "cells": {
             "fill": {
              "color": "#EBF0F8"
             },
             "line": {
              "color": "white"
             }
            },
            "header": {
             "fill": {
              "color": "#C8D4E3"
             },
             "line": {
              "color": "white"
             }
            },
            "type": "table"
           }
          ]
         },
         "layout": {
          "annotationdefaults": {
           "arrowcolor": "#2a3f5f",
           "arrowhead": 0,
           "arrowwidth": 1
          },
          "autotypenumbers": "strict",
          "coloraxis": {
           "colorbar": {
            "outlinewidth": 0,
            "ticks": ""
           }
          },
          "colorscale": {
           "diverging": [
            [
             0,
             "#8e0152"
            ],
            [
             0.1,
             "#c51b7d"
            ],
            [
             0.2,
             "#de77ae"
            ],
            [
             0.3,
             "#f1b6da"
            ],
            [
             0.4,
             "#fde0ef"
            ],
            [
             0.5,
             "#f7f7f7"
            ],
            [
             0.6,
             "#e6f5d0"
            ],
            [
             0.7,
             "#b8e186"
            ],
            [
             0.8,
             "#7fbc41"
            ],
            [
             0.9,
             "#4d9221"
            ],
            [
             1,
             "#276419"
            ]
           ],
           "sequential": [
            [
             0,
             "#0d0887"
            ],
            [
             0.1111111111111111,
             "#46039f"
            ],
            [
             0.2222222222222222,
             "#7201a8"
            ],
            [
             0.3333333333333333,
             "#9c179e"
            ],
            [
             0.4444444444444444,
             "#bd3786"
            ],
            [
             0.5555555555555556,
             "#d8576b"
            ],
            [
             0.6666666666666666,
             "#ed7953"
            ],
            [
             0.7777777777777778,
             "#fb9f3a"
            ],
            [
             0.8888888888888888,
             "#fdca26"
            ],
            [
             1,
             "#f0f921"
            ]
           ],
           "sequentialminus": [
            [
             0,
             "#0d0887"
            ],
            [
             0.1111111111111111,
             "#46039f"
            ],
            [
             0.2222222222222222,
             "#7201a8"
            ],
            [
             0.3333333333333333,
             "#9c179e"
            ],
            [
             0.4444444444444444,
             "#bd3786"
            ],
            [
             0.5555555555555556,
             "#d8576b"
            ],
            [
             0.6666666666666666,
             "#ed7953"
            ],
            [
             0.7777777777777778,
             "#fb9f3a"
            ],
            [
             0.8888888888888888,
             "#fdca26"
            ],
            [
             1,
             "#f0f921"
            ]
           ]
          },
          "colorway": [
           "#636efa",
           "#EF553B",
           "#00cc96",
           "#ab63fa",
           "#FFA15A",
           "#19d3f3",
           "#FF6692",
           "#B6E880",
           "#FF97FF",
           "#FECB52"
          ],
          "font": {
           "color": "#2a3f5f"
          },
          "geo": {
           "bgcolor": "white",
           "lakecolor": "white",
           "landcolor": "#E5ECF6",
           "showlakes": true,
           "showland": true,
           "subunitcolor": "white"
          },
          "hoverlabel": {
           "align": "left"
          },
          "hovermode": "closest",
          "mapbox": {
           "style": "light"
          },
          "paper_bgcolor": "white",
          "plot_bgcolor": "#E5ECF6",
          "polar": {
           "angularaxis": {
            "gridcolor": "white",
            "linecolor": "white",
            "ticks": ""
           },
           "bgcolor": "#E5ECF6",
           "radialaxis": {
            "gridcolor": "white",
            "linecolor": "white",
            "ticks": ""
           }
          },
          "scene": {
           "xaxis": {
            "backgroundcolor": "#E5ECF6",
            "gridcolor": "white",
            "gridwidth": 2,
            "linecolor": "white",
            "showbackground": true,
            "ticks": "",
            "zerolinecolor": "white"
           },
           "yaxis": {
            "backgroundcolor": "#E5ECF6",
            "gridcolor": "white",
            "gridwidth": 2,
            "linecolor": "white",
            "showbackground": true,
            "ticks": "",
            "zerolinecolor": "white"
           },
           "zaxis": {
            "backgroundcolor": "#E5ECF6",
            "gridcolor": "white",
            "gridwidth": 2,
            "linecolor": "white",
            "showbackground": true,
            "ticks": "",
            "zerolinecolor": "white"
           }
          },
          "shapedefaults": {
           "line": {
            "color": "#2a3f5f"
           }
          },
          "ternary": {
           "aaxis": {
            "gridcolor": "white",
            "linecolor": "white",
            "ticks": ""
           },
           "baxis": {
            "gridcolor": "white",
            "linecolor": "white",
            "ticks": ""
           },
           "bgcolor": "#E5ECF6",
           "caxis": {
            "gridcolor": "white",
            "linecolor": "white",
            "ticks": ""
           }
          },
          "title": {
           "x": 0.05
          },
          "xaxis": {
           "automargin": true,
           "gridcolor": "white",
           "linecolor": "white",
           "ticks": "",
           "title": {
            "standoff": 15
           },
           "zerolinecolor": "white",
           "zerolinewidth": 2
          },
          "yaxis": {
           "automargin": true,
           "gridcolor": "white",
           "linecolor": "white",
           "ticks": "",
           "title": {
            "standoff": 15
           },
           "zerolinecolor": "white",
           "zerolinewidth": 2
          }
         }
        }
       }
      }
     },
     "metadata": {},
     "output_type": "display_data"
    }
   ],
   "source": [
    "df_funnel.insert(loc=0, column='Visit', value=[n_visitors_total])\n",
    "plot_funnel(df_funnel)"
   ]
  },
  {
   "attachments": {},
   "cell_type": "markdown",
   "metadata": {},
   "source": [
    "#### Is the Conversion Rate good?\n",
    "\n",
    "Our conversion rate (from visit to purchase) is $7.8\\%$, which is almost identical to the industry benchmark $7.7%$ ( according to the [SimilarWeb](https://www.similarweb.com/blog/ecommerce/retail-insights/ecommerce-benchmarks-metrics/)).\n",
    "\n",
    "Conclusion: **🟢 The Conversion Rate is at the average level across industry.**\n",
    "\n"
   ]
  },
  {
   "attachments": {},
   "cell_type": "markdown",
   "metadata": {},
   "source": [
    "## User Retention"
   ]
  },
  {
   "attachments": {},
   "cell_type": "markdown",
   "metadata": {},
   "source": [
    "In order to define the appropriate retention metrics, we need to understand:\n",
    "1. Critical event \n",
    "2. Product usage interval.\n",
    "\n",
    "\n",
    "#### Define Critical Event\n",
    "According to the [Amplitude](https://amplitude.com/mastering-retention/critical-event-product-usage-interval):\n",
    "> A _critical event_ is an action that users take within your product\n",
    "> that aligns closely with your core value proposition.\n",
    "\n",
    "The only valuable event for the business in our case is **purchase**. Though we could also work with retetion in visit, for example, to analyse the stickiness of our product.\n",
    "\n",
    "#### Define Product Usage Interval\n",
    "\n",
    "Let's analyse the retention in visit to get insights, how frequently the product is used.\n",
    "\n",
    "For the simplicity, we will concider only on cohort (from the 1 Nov 2019).\n"
   ]
  },
  {
   "cell_type": "code",
   "execution_count": 75,
   "metadata": {},
   "outputs": [
    {
     "name": "stdout",
     "output_type": "stream",
     "text": [
      "*  duckdb://:***@/ecommerce_store.duckdb\n",
      "Done.\n"
     ]
    }
   ],
   "source": [
    "%%sql df_view_retention <<\n",
    "\n",
    "select cohort_date,\n",
    "       period_num,\n",
    "       user_viewed_cnt,\n",
    "       user_viewed_cnt::numeric / cohort_total_user_viewed_cnt as user_viewed_percent\n",
    "from user_retention\n",
    "where cohort_date in ('2019-11-01'::date, '2019-11-05'::date);"
   ]
  },
  {
   "cell_type": "code",
   "execution_count": 83,
   "metadata": {},
   "outputs": [
    {
     "data": {
      "application/vnd.plotly.v1+json": {
       "config": {
        "plotlyServerURL": "https://plot.ly"
       },
       "data": [
        {
         "hovertemplate": "cohort_date=2019-11-01<br>period_num=%{x}<br>user_viewed_cnt=%{y}<extra></extra>",
         "legendgroup": "2019-11-01",
         "line": {
          "color": "#636efa",
          "dash": "solid"
         },
         "marker": {
          "symbol": "circle"
         },
         "mode": "lines+markers",
         "name": "2019-11-01",
         "orientation": "v",
         "showlegend": true,
         "textposition": "bottom right",
         "type": "scatter",
         "x": [
          0,
          1,
          2,
          3,
          4,
          5,
          6,
          7,
          8,
          9,
          10,
          11,
          12,
          13,
          14,
          15,
          16,
          17,
          18,
          19,
          20,
          21,
          22,
          23,
          24,
          25,
          26,
          27,
          28,
          29
         ],
         "xaxis": "x",
         "y": [
          223107,
          41733,
          34690,
          36634,
          32915,
          31127,
          31609,
          30146,
          27756,
          27726,
          28306,
          28004,
          27605,
          32584,
          42553,
          47516,
          44039,
          27878,
          22852,
          21588,
          20257,
          19441,
          18603,
          18297,
          18495,
          19875,
          20143,
          19757,
          21959,
          19610
         ],
         "yaxis": "y"
        },
        {
         "hovertemplate": "cohort_date=2019-11-05<br>period_num=%{x}<br>user_viewed_cnt=%{y}<extra></extra>",
         "legendgroup": "2019-11-05",
         "line": {
          "color": "#EF553B",
          "dash": "solid"
         },
         "marker": {
          "symbol": "circle"
         },
         "mode": "lines+markers",
         "name": "2019-11-05",
         "orientation": "v",
         "showlegend": true,
         "textposition": "bottom right",
         "type": "scatter",
         "x": [
          0,
          1,
          2,
          3,
          4,
          5,
          6,
          7,
          8,
          9,
          10,
          11,
          12,
          13,
          14,
          15,
          16,
          17,
          18,
          19,
          20,
          21,
          22,
          23,
          24,
          25
         ],
         "xaxis": "x",
         "y": [
          160903,
          20099,
          16712,
          14635,
          12999,
          12791,
          13619,
          13194,
          12733,
          14861,
          20051,
          24149,
          22875,
          13154,
          10668,
          10009,
          9620,
          8690,
          8198,
          8255,
          8723,
          9426,
          9298,
          9065,
          10095,
          8755
         ],
         "yaxis": "y"
        }
       ],
       "layout": {
        "autosize": true,
        "legend": {
         "title": {
          "text": "cohort_date"
         },
         "tracegroupgap": 0
        },
        "margin": {
         "autoexpand": false,
         "l": 100,
         "r": 200,
         "t": 50
        },
        "plot_bgcolor": "whitesmoke",
        "showlegend": true,
        "template": {
         "data": {
          "bar": [
           {
            "error_x": {
             "color": "#2a3f5f"
            },
            "error_y": {
             "color": "#2a3f5f"
            },
            "marker": {
             "line": {
              "color": "#E5ECF6",
              "width": 0.5
             },
             "pattern": {
              "fillmode": "overlay",
              "size": 10,
              "solidity": 0.2
             }
            },
            "type": "bar"
           }
          ],
          "barpolar": [
           {
            "marker": {
             "line": {
              "color": "#E5ECF6",
              "width": 0.5
             },
             "pattern": {
              "fillmode": "overlay",
              "size": 10,
              "solidity": 0.2
             }
            },
            "type": "barpolar"
           }
          ],
          "carpet": [
           {
            "aaxis": {
             "endlinecolor": "#2a3f5f",
             "gridcolor": "white",
             "linecolor": "white",
             "minorgridcolor": "white",
             "startlinecolor": "#2a3f5f"
            },
            "baxis": {
             "endlinecolor": "#2a3f5f",
             "gridcolor": "white",
             "linecolor": "white",
             "minorgridcolor": "white",
             "startlinecolor": "#2a3f5f"
            },
            "type": "carpet"
           }
          ],
          "choropleth": [
           {
            "colorbar": {
             "outlinewidth": 0,
             "ticks": ""
            },
            "type": "choropleth"
           }
          ],
          "contour": [
           {
            "colorbar": {
             "outlinewidth": 0,
             "ticks": ""
            },
            "colorscale": [
             [
              0,
              "#0d0887"
             ],
             [
              0.1111111111111111,
              "#46039f"
             ],
             [
              0.2222222222222222,
              "#7201a8"
             ],
             [
              0.3333333333333333,
              "#9c179e"
             ],
             [
              0.4444444444444444,
              "#bd3786"
             ],
             [
              0.5555555555555556,
              "#d8576b"
             ],
             [
              0.6666666666666666,
              "#ed7953"
             ],
             [
              0.7777777777777778,
              "#fb9f3a"
             ],
             [
              0.8888888888888888,
              "#fdca26"
             ],
             [
              1,
              "#f0f921"
             ]
            ],
            "type": "contour"
           }
          ],
          "contourcarpet": [
           {
            "colorbar": {
             "outlinewidth": 0,
             "ticks": ""
            },
            "type": "contourcarpet"
           }
          ],
          "heatmap": [
           {
            "colorbar": {
             "outlinewidth": 0,
             "ticks": ""
            },
            "colorscale": [
             [
              0,
              "#0d0887"
             ],
             [
              0.1111111111111111,
              "#46039f"
             ],
             [
              0.2222222222222222,
              "#7201a8"
             ],
             [
              0.3333333333333333,
              "#9c179e"
             ],
             [
              0.4444444444444444,
              "#bd3786"
             ],
             [
              0.5555555555555556,
              "#d8576b"
             ],
             [
              0.6666666666666666,
              "#ed7953"
             ],
             [
              0.7777777777777778,
              "#fb9f3a"
             ],
             [
              0.8888888888888888,
              "#fdca26"
             ],
             [
              1,
              "#f0f921"
             ]
            ],
            "type": "heatmap"
           }
          ],
          "heatmapgl": [
           {
            "colorbar": {
             "outlinewidth": 0,
             "ticks": ""
            },
            "colorscale": [
             [
              0,
              "#0d0887"
             ],
             [
              0.1111111111111111,
              "#46039f"
             ],
             [
              0.2222222222222222,
              "#7201a8"
             ],
             [
              0.3333333333333333,
              "#9c179e"
             ],
             [
              0.4444444444444444,
              "#bd3786"
             ],
             [
              0.5555555555555556,
              "#d8576b"
             ],
             [
              0.6666666666666666,
              "#ed7953"
             ],
             [
              0.7777777777777778,
              "#fb9f3a"
             ],
             [
              0.8888888888888888,
              "#fdca26"
             ],
             [
              1,
              "#f0f921"
             ]
            ],
            "type": "heatmapgl"
           }
          ],
          "histogram": [
           {
            "marker": {
             "pattern": {
              "fillmode": "overlay",
              "size": 10,
              "solidity": 0.2
             }
            },
            "type": "histogram"
           }
          ],
          "histogram2d": [
           {
            "colorbar": {
             "outlinewidth": 0,
             "ticks": ""
            },
            "colorscale": [
             [
              0,
              "#0d0887"
             ],
             [
              0.1111111111111111,
              "#46039f"
             ],
             [
              0.2222222222222222,
              "#7201a8"
             ],
             [
              0.3333333333333333,
              "#9c179e"
             ],
             [
              0.4444444444444444,
              "#bd3786"
             ],
             [
              0.5555555555555556,
              "#d8576b"
             ],
             [
              0.6666666666666666,
              "#ed7953"
             ],
             [
              0.7777777777777778,
              "#fb9f3a"
             ],
             [
              0.8888888888888888,
              "#fdca26"
             ],
             [
              1,
              "#f0f921"
             ]
            ],
            "type": "histogram2d"
           }
          ],
          "histogram2dcontour": [
           {
            "colorbar": {
             "outlinewidth": 0,
             "ticks": ""
            },
            "colorscale": [
             [
              0,
              "#0d0887"
             ],
             [
              0.1111111111111111,
              "#46039f"
             ],
             [
              0.2222222222222222,
              "#7201a8"
             ],
             [
              0.3333333333333333,
              "#9c179e"
             ],
             [
              0.4444444444444444,
              "#bd3786"
             ],
             [
              0.5555555555555556,
              "#d8576b"
             ],
             [
              0.6666666666666666,
              "#ed7953"
             ],
             [
              0.7777777777777778,
              "#fb9f3a"
             ],
             [
              0.8888888888888888,
              "#fdca26"
             ],
             [
              1,
              "#f0f921"
             ]
            ],
            "type": "histogram2dcontour"
           }
          ],
          "mesh3d": [
           {
            "colorbar": {
             "outlinewidth": 0,
             "ticks": ""
            },
            "type": "mesh3d"
           }
          ],
          "parcoords": [
           {
            "line": {
             "colorbar": {
              "outlinewidth": 0,
              "ticks": ""
             }
            },
            "type": "parcoords"
           }
          ],
          "pie": [
           {
            "automargin": true,
            "type": "pie"
           }
          ],
          "scatter": [
           {
            "fillpattern": {
             "fillmode": "overlay",
             "size": 10,
             "solidity": 0.2
            },
            "type": "scatter"
           }
          ],
          "scatter3d": [
           {
            "line": {
             "colorbar": {
              "outlinewidth": 0,
              "ticks": ""
             }
            },
            "marker": {
             "colorbar": {
              "outlinewidth": 0,
              "ticks": ""
             }
            },
            "type": "scatter3d"
           }
          ],
          "scattercarpet": [
           {
            "marker": {
             "colorbar": {
              "outlinewidth": 0,
              "ticks": ""
             }
            },
            "type": "scattercarpet"
           }
          ],
          "scattergeo": [
           {
            "marker": {
             "colorbar": {
              "outlinewidth": 0,
              "ticks": ""
             }
            },
            "type": "scattergeo"
           }
          ],
          "scattergl": [
           {
            "marker": {
             "colorbar": {
              "outlinewidth": 0,
              "ticks": ""
             }
            },
            "type": "scattergl"
           }
          ],
          "scattermapbox": [
           {
            "marker": {
             "colorbar": {
              "outlinewidth": 0,
              "ticks": ""
             }
            },
            "type": "scattermapbox"
           }
          ],
          "scatterpolar": [
           {
            "marker": {
             "colorbar": {
              "outlinewidth": 0,
              "ticks": ""
             }
            },
            "type": "scatterpolar"
           }
          ],
          "scatterpolargl": [
           {
            "marker": {
             "colorbar": {
              "outlinewidth": 0,
              "ticks": ""
             }
            },
            "type": "scatterpolargl"
           }
          ],
          "scatterternary": [
           {
            "marker": {
             "colorbar": {
              "outlinewidth": 0,
              "ticks": ""
             }
            },
            "type": "scatterternary"
           }
          ],
          "surface": [
           {
            "colorbar": {
             "outlinewidth": 0,
             "ticks": ""
            },
            "colorscale": [
             [
              0,
              "#0d0887"
             ],
             [
              0.1111111111111111,
              "#46039f"
             ],
             [
              0.2222222222222222,
              "#7201a8"
             ],
             [
              0.3333333333333333,
              "#9c179e"
             ],
             [
              0.4444444444444444,
              "#bd3786"
             ],
             [
              0.5555555555555556,
              "#d8576b"
             ],
             [
              0.6666666666666666,
              "#ed7953"
             ],
             [
              0.7777777777777778,
              "#fb9f3a"
             ],
             [
              0.8888888888888888,
              "#fdca26"
             ],
             [
              1,
              "#f0f921"
             ]
            ],
            "type": "surface"
           }
          ],
          "table": [
           {
            "cells": {
             "fill": {
              "color": "#EBF0F8"
             },
             "line": {
              "color": "white"
             }
            },
            "header": {
             "fill": {
              "color": "#C8D4E3"
             },
             "line": {
              "color": "white"
             }
            },
            "type": "table"
           }
          ]
         },
         "layout": {
          "annotationdefaults": {
           "arrowcolor": "#2a3f5f",
           "arrowhead": 0,
           "arrowwidth": 1
          },
          "autotypenumbers": "strict",
          "coloraxis": {
           "colorbar": {
            "outlinewidth": 0,
            "ticks": ""
           }
          },
          "colorscale": {
           "diverging": [
            [
             0,
             "#8e0152"
            ],
            [
             0.1,
             "#c51b7d"
            ],
            [
             0.2,
             "#de77ae"
            ],
            [
             0.3,
             "#f1b6da"
            ],
            [
             0.4,
             "#fde0ef"
            ],
            [
             0.5,
             "#f7f7f7"
            ],
            [
             0.6,
             "#e6f5d0"
            ],
            [
             0.7,
             "#b8e186"
            ],
            [
             0.8,
             "#7fbc41"
            ],
            [
             0.9,
             "#4d9221"
            ],
            [
             1,
             "#276419"
            ]
           ],
           "sequential": [
            [
             0,
             "#0d0887"
            ],
            [
             0.1111111111111111,
             "#46039f"
            ],
            [
             0.2222222222222222,
             "#7201a8"
            ],
            [
             0.3333333333333333,
             "#9c179e"
            ],
            [
             0.4444444444444444,
             "#bd3786"
            ],
            [
             0.5555555555555556,
             "#d8576b"
            ],
            [
             0.6666666666666666,
             "#ed7953"
            ],
            [
             0.7777777777777778,
             "#fb9f3a"
            ],
            [
             0.8888888888888888,
             "#fdca26"
            ],
            [
             1,
             "#f0f921"
            ]
           ],
           "sequentialminus": [
            [
             0,
             "#0d0887"
            ],
            [
             0.1111111111111111,
             "#46039f"
            ],
            [
             0.2222222222222222,
             "#7201a8"
            ],
            [
             0.3333333333333333,
             "#9c179e"
            ],
            [
             0.4444444444444444,
             "#bd3786"
            ],
            [
             0.5555555555555556,
             "#d8576b"
            ],
            [
             0.6666666666666666,
             "#ed7953"
            ],
            [
             0.7777777777777778,
             "#fb9f3a"
            ],
            [
             0.8888888888888888,
             "#fdca26"
            ],
            [
             1,
             "#f0f921"
            ]
           ]
          },
          "colorway": [
           "#636efa",
           "#EF553B",
           "#00cc96",
           "#ab63fa",
           "#FFA15A",
           "#19d3f3",
           "#FF6692",
           "#B6E880",
           "#FF97FF",
           "#FECB52"
          ],
          "font": {
           "color": "#2a3f5f"
          },
          "geo": {
           "bgcolor": "white",
           "lakecolor": "white",
           "landcolor": "#E5ECF6",
           "showlakes": true,
           "showland": true,
           "subunitcolor": "white"
          },
          "hoverlabel": {
           "align": "left"
          },
          "hovermode": "closest",
          "mapbox": {
           "style": "light"
          },
          "paper_bgcolor": "white",
          "plot_bgcolor": "#E5ECF6",
          "polar": {
           "angularaxis": {
            "gridcolor": "white",
            "linecolor": "white",
            "ticks": ""
           },
           "bgcolor": "#E5ECF6",
           "radialaxis": {
            "gridcolor": "white",
            "linecolor": "white",
            "ticks": ""
           }
          },
          "scene": {
           "xaxis": {
            "backgroundcolor": "#E5ECF6",
            "gridcolor": "white",
            "gridwidth": 2,
            "linecolor": "white",
            "showbackground": true,
            "ticks": "",
            "zerolinecolor": "white"
           },
           "yaxis": {
            "backgroundcolor": "#E5ECF6",
            "gridcolor": "white",
            "gridwidth": 2,
            "linecolor": "white",
            "showbackground": true,
            "ticks": "",
            "zerolinecolor": "white"
           },
           "zaxis": {
            "backgroundcolor": "#E5ECF6",
            "gridcolor": "white",
            "gridwidth": 2,
            "linecolor": "white",
            "showbackground": true,
            "ticks": "",
            "zerolinecolor": "white"
           }
          },
          "shapedefaults": {
           "line": {
            "color": "#2a3f5f"
           }
          },
          "ternary": {
           "aaxis": {
            "gridcolor": "white",
            "linecolor": "white",
            "ticks": ""
           },
           "baxis": {
            "gridcolor": "white",
            "linecolor": "white",
            "ticks": ""
           },
           "bgcolor": "#E5ECF6",
           "caxis": {
            "gridcolor": "white",
            "linecolor": "white",
            "ticks": ""
           }
          },
          "title": {
           "x": 0.05
          },
          "xaxis": {
           "automargin": true,
           "gridcolor": "white",
           "linecolor": "white",
           "ticks": "",
           "title": {
            "standoff": 15
           },
           "zerolinecolor": "white",
           "zerolinewidth": 2
          },
          "yaxis": {
           "automargin": true,
           "gridcolor": "white",
           "linecolor": "white",
           "ticks": "",
           "title": {
            "standoff": 15
           },
           "zerolinecolor": "white",
           "zerolinewidth": 2
          }
         }
        },
        "title": {
         "text": "Retention in view"
        },
        "xaxis": {
         "anchor": "y",
         "domain": [
          0,
          1
         ],
         "linecolor": "black",
         "tickfont": {
          "color": "rgb(82, 82, 82)",
          "family": "Verdana",
          "size": 14
         },
         "ticks": "outside",
         "title": {
          "text": "# of Days since first view"
         }
        },
        "yaxis": {
         "anchor": "x",
         "domain": [
          0,
          1
         ],
         "showticklabels": true,
         "tickfont": {
          "color": "rgb(82, 82, 82)",
          "family": "Verdana",
          "size": 14
         },
         "title": {
          "text": "# of Viewers"
         }
        }
       }
      }
     },
     "metadata": {},
     "output_type": "display_data"
    }
   ],
   "source": [
    "import plotly.express as px\n",
    "\n",
    "fig = px.line(df_view_retention,\n",
    "              x=\"period_num\", y=\"user_viewed_cnt\",\n",
    "              title=f'Retention in view',\n",
    "              color='cohort_date',\n",
    "              markers=True)\n",
    "fig.update_traces(textposition=\"bottom right\")\n",
    "\n",
    "fig.update_layout(\n",
    "    xaxis=dict(\n",
    "        title='# of Days since first view',\n",
    "        linecolor='black',\n",
    "        ticks='outside',\n",
    "        tickfont=dict(\n",
    "            family='Verdana',\n",
    "            size=14,\n",
    "            color='rgb(82, 82, 82)',\n",
    "        ),\n",
    "    ),\n",
    "    yaxis=dict(\n",
    "        title='# of Viewers',\n",
    "        showticklabels=True,\n",
    "        tickfont=dict(\n",
    "            family='Verdana',\n",
    "            size=14,\n",
    "            color='rgb(82, 82, 82)',\n",
    "        ),\n",
    "    ),\n",
    "    autosize=True,\n",
    "    margin=dict(\n",
    "        autoexpand=False,\n",
    "        l=100,\n",
    "        r=200,\n",
    "        t=50,\n",
    "    ),\n",
    "    showlegend=True,\n",
    "    plot_bgcolor='whitesmoke'\n",
    ")\n",
    "\n",
    "fig.show()"
   ]
  },
  {
   "attachments": {},
   "cell_type": "markdown",
   "metadata": {},
   "source": [
    "We see that:\n",
    "\n",
    "- There is an activity splash on 15th day. However, that's only because 15th November is a special day. We shouldn't take it into account when analyzing retention curve.\n",
    "- The retention curve is pretty smooth, withoug any pits or retention splashed (except for 15th November, but that's not relevant).\n",
    "\n",
    "Conclusion: **1 month is the best choice of product usage interval**. \n"
   ]
  },
  {
   "cell_type": "code",
   "execution_count": 3,
   "metadata": {},
   "outputs": [
    {
     "name": "stdout",
     "output_type": "stream",
     "text": [
      "*  duckdb://:***@/ecommerce_store.duckdb\n",
      "Done.\n"
     ]
    },
    {
     "data": {
      "text/html": [
       "<div>\n",
       "<style scoped>\n",
       "    .dataframe tbody tr th:only-of-type {\n",
       "        vertical-align: middle;\n",
       "    }\n",
       "\n",
       "    .dataframe tbody tr th {\n",
       "        vertical-align: top;\n",
       "    }\n",
       "\n",
       "    .dataframe thead th {\n",
       "        text-align: right;\n",
       "    }\n",
       "</style>\n",
       "<table border=\"1\" class=\"dataframe\">\n",
       "  <thead>\n",
       "    <tr style=\"text-align: right;\">\n",
       "      <th></th>\n",
       "      <th>Count</th>\n",
       "    </tr>\n",
       "  </thead>\n",
       "  <tbody>\n",
       "    <tr>\n",
       "      <th>0</th>\n",
       "      <td>223107</td>\n",
       "    </tr>\n",
       "  </tbody>\n",
       "</table>\n",
       "</div>"
      ],
      "text/plain": [
       "    Count\n",
       "0  223107"
      ]
     },
     "execution_count": 3,
     "metadata": {},
     "output_type": "execute_result"
    }
   ],
   "source": [
    "%%sql\n",
    "create temp table cohort\n",
    "as \n",
    "select user_id,\n",
    "    min(event_time::date) as cohort_date\n",
    "from user_event\n",
    "group by user_id\n",
    "having min(event_time::date) = '2019-11-01'::date\n"
   ]
  },
  {
   "cell_type": "code",
   "execution_count": 5,
   "metadata": {},
   "outputs": [
    {
     "name": "stdout",
     "output_type": "stream",
     "text": [
      "*  duckdb://:***@/ecommerce_store.duckdb\n",
      "Done.\n"
     ]
    },
    {
     "data": {
      "text/html": [
       "<div>\n",
       "<style scoped>\n",
       "    .dataframe tbody tr th:only-of-type {\n",
       "        vertical-align: middle;\n",
       "    }\n",
       "\n",
       "    .dataframe tbody tr th {\n",
       "        vertical-align: top;\n",
       "    }\n",
       "\n",
       "    .dataframe thead th {\n",
       "        text-align: right;\n",
       "    }\n",
       "</style>\n",
       "<table border=\"1\" class=\"dataframe\">\n",
       "  <thead>\n",
       "    <tr style=\"text-align: right;\">\n",
       "      <th></th>\n",
       "      <th>cohort_date</th>\n",
       "      <th>Retention in view (on 1st day)</th>\n",
       "      <th>Retention in view (during 30 days)</th>\n",
       "    </tr>\n",
       "  </thead>\n",
       "  <tbody>\n",
       "    <tr>\n",
       "      <th>0</th>\n",
       "      <td>2019-11-01</td>\n",
       "      <td>19.0%</td>\n",
       "      <td>73.0%</td>\n",
       "    </tr>\n",
       "  </tbody>\n",
       "</table>\n",
       "</div>"
      ],
      "text/plain": [
       "  cohort_date Retention in view (on 1st day)   \n",
       "0  2019-11-01                          19.0%  \\\n",
       "\n",
       "  Retention in view (during 30 days)  \n",
       "0                              73.0%  "
      ]
     },
     "execution_count": 5,
     "metadata": {},
     "output_type": "execute_result"
    }
   ],
   "source": [
    "%%sql\n",
    "\n",
    "\n",
    "with a as (\n",
    "    select\n",
    "        cohort_date,\n",
    "        count(distinct user_event.user_id)                           as cohort_user_cnt,\n",
    "        count(distinct case when event_time::date - cohort_date = 1 \n",
    "                            then user_event.user_id\n",
    "                       end)                                          as user_returned_1_day_cnt,\n",
    "        count(distinct case \n",
    "                            when event_time::date - cohort_date between 1 and 30 \n",
    "                            then user_event.user_id\n",
    "                       end)                                          as user_returned_30_days_cnt\n",
    "    from user_event\n",
    "        join cohort\n",
    "        using (user_id)\n",
    "    group by cohort_date\n",
    ")\n",
    "select cohort_date,\n",
    "       round(100 * user_returned_1_day_cnt::numeric / cohort_user_cnt, 0)::text || '%' as \"Retention in view (on 1st day)\",\n",
    "       round(100 * user_returned_30_days_cnt::numeric / cohort_user_cnt, 0)::text || '%' as \"Retention in view (during 30 days)\"\n",
    "from a"
   ]
  },
  {
   "attachments": {},
   "cell_type": "markdown",
   "metadata": {},
   "source": [
    "This confirms my observation, that user's usage interval is no shorter than 1 month. \n",
    "\n",
    "We can see that Retention to View on the next day is `19%`, which is not bad, but during 30 days much more users return - approximately `73%`.\n",
    "\n",
    "We should track Monthly Retention."
   ]
  },
  {
   "attachments": {},
   "cell_type": "markdown",
   "metadata": {},
   "source": [
    "Recommendation:\n",
    "\n",
    "1. _Use mailings to manually return users during their first month_. The pattern shows, that most users are willing to return, and this can be exploited.\n",
    "    - Time of the mailing can be chosen based on user activity data. Generally, it's better to send emails right before the most active period in day."
   ]
  },
  {
   "attachments": {},
   "cell_type": "markdown",
   "metadata": {},
   "source": [
    "#### Retention Metric\n",
    "\n",
    "Based on the choice of the critical event (purchase) and product usage interval (1 month), the main Retention metric is the **_Retention in purchase during first 30 days_**"
   ]
  },
  {
   "cell_type": "code",
   "execution_count": 7,
   "metadata": {},
   "outputs": [
    {
     "name": "stdout",
     "output_type": "stream",
     "text": [
      "*  duckdb://:***@/ecommerce_store.duckdb\n",
      "Done.\n"
     ]
    },
    {
     "data": {
      "text/html": [
       "<div>\n",
       "<style scoped>\n",
       "    .dataframe tbody tr th:only-of-type {\n",
       "        vertical-align: middle;\n",
       "    }\n",
       "\n",
       "    .dataframe tbody tr th {\n",
       "        vertical-align: top;\n",
       "    }\n",
       "\n",
       "    .dataframe thead th {\n",
       "        text-align: right;\n",
       "    }\n",
       "</style>\n",
       "<table border=\"1\" class=\"dataframe\">\n",
       "  <thead>\n",
       "    <tr style=\"text-align: right;\">\n",
       "      <th></th>\n",
       "      <th>cohort_date</th>\n",
       "      <th>Retention in Purchase (during 30 days)</th>\n",
       "    </tr>\n",
       "  </thead>\n",
       "  <tbody>\n",
       "    <tr>\n",
       "      <th>0</th>\n",
       "      <td>2019-11-01</td>\n",
       "      <td>82.0%</td>\n",
       "    </tr>\n",
       "  </tbody>\n",
       "</table>\n",
       "</div>"
      ],
      "text/plain": [
       "  cohort_date Retention in Purchase (during 30 days)\n",
       "0  2019-11-01                                  82.0%"
      ]
     },
     "execution_count": 7,
     "metadata": {},
     "output_type": "execute_result"
    }
   ],
   "source": [
    "%%sql\n",
    "\n",
    "with a as (\n",
    "    select\n",
    "        cohort_date,\n",
    "        count(distinct user_event.user_id)                           as cohort_user_cnt,\n",
    "        count(distinct case when event_time::date - cohort_date = 1 \n",
    "                            then user_event.user_id\n",
    "                       end)                                          as user_returned_1_day_cnt,\n",
    "        count(distinct case \n",
    "                            when event_time::date - cohort_date between 1 and 30 \n",
    "                            then user_event.user_id\n",
    "                       end)                                          as user_returned_30_days_cnt\n",
    "    from user_event\n",
    "        join cohort\n",
    "        using (user_id)\n",
    "    where event_type = 'purchase'\n",
    "    group by cohort_date\n",
    ")\n",
    "select cohort_date,\n",
    "       round(100 * user_returned_30_days_cnt::numeric / cohort_user_cnt, 0)::text || '%' as \"Retention in Purchase (during 30 days)\"\n",
    "from a"
   ]
  },
  {
   "attachments": {},
   "cell_type": "markdown",
   "metadata": {},
   "source": [
    "Conclusion:\n",
    "- Customers, who already have made the purchase, have a very good habit for the recurring purchases. "
   ]
  },
  {
   "attachments": {},
   "cell_type": "markdown",
   "metadata": {},
   "source": [
    "## User most active hours"
   ]
  },
  {
   "cell_type": "code",
   "execution_count": 10,
   "metadata": {},
   "outputs": [
    {
     "name": "stdout",
     "output_type": "stream",
     "text": [
      "*  duckdb://:***@/ecommerce_store.duckdb\n",
      "Done.\n"
     ]
    }
   ],
   "source": [
    "%%sql df_hours_activity <<\n",
    "\n",
    "select date_part('hour', event_time) as hour,\n",
    "       count(*) as views_cnt\n",
    "from user_event\n",
    "where event_type = 'view'\n",
    "group by date_part('hour', event_time)\n",
    "order by hour"
   ]
  },
  {
   "cell_type": "code",
   "execution_count": 20,
   "metadata": {},
   "outputs": [
    {
     "data": {
      "image/png": "[encoded data removed]",
      "text/plain": [
       "<Figure size 1500x500 with 1 Axes>"
      ]
     },
     "metadata": {},
     "output_type": "display_data"
    }
   ],
   "source": [
    "import seaborn as sns\n",
    "import matplotlib.pyplot as plt\n",
    "\n",
    "plt.figure(figsize=(15, 5))\n",
    "\n",
    "sns.lineplot(df_hours_activity, x='hour', y='views_cnt', label='# of Views')\n",
    "import matplotlib.ticker as plticker\n",
    "loc = plticker.MultipleLocator(base=1.0) # this locator puts ticks at regular intervals\n",
    "plt.gca().xaxis.set_major_locator(loc)\n",
    "plt.title('User activity during day');"
   ]
  },
  {
   "attachments": {},
   "cell_type": "markdown",
   "metadata": {},
   "source": [
    "Recommendation:\n",
    "- The best time for the mailing, or some other actions towards users, is `1PM` - at this moment starts the most active period for the users."
   ]
  },
  {
   "attachments": {},
   "cell_type": "markdown",
   "metadata": {},
   "source": [
    "## The most successful goods\n"
   ]
  },
  {
   "cell_type": "code",
   "execution_count": 9,
   "metadata": {},
   "outputs": [
    {
     "name": "stdout",
     "output_type": "stream",
     "text": [
      "*  duckdb://:***@/ecommerce_store.duckdb\n",
      "Done.\n"
     ]
    }
   ],
   "source": [
    "%%sql df_category_stat <<\n",
    "\n",
    "select category_code,\n",
    "       count(case when event_type = 'view' then 1 end)              as item_viewed_cnt,\n",
    "       count(case when event_type = 'purchase' then 1 end)          as item_purchased_cnt,\n",
    "       sum(case when event_type = 'purchase' then price else 0 end) as revenue\n",
    "from user_event\n",
    "group by category_code"
   ]
  },
  {
   "cell_type": "code",
   "execution_count": 4,
   "metadata": {},
   "outputs": [
    {
     "data": {
      "text/html": [
       "<style type=\"text/css\">\n",
       "#T_453f7_row0_col3 {\n",
       "  width: 10em;\n",
       "  background: linear-gradient(90deg, #d65f5f 100.0%, transparent 100.0%);\n",
       "}\n",
       "#T_453f7_row1_col3 {\n",
       "  width: 10em;\n",
       "  background: linear-gradient(90deg, #d65f5f 16.8%, transparent 16.8%);\n",
       "}\n",
       "#T_453f7_row2_col3 {\n",
       "  width: 10em;\n",
       "  background: linear-gradient(90deg, #d65f5f 7.0%, transparent 7.0%);\n",
       "}\n",
       "#T_453f7_row3_col3 {\n",
       "  width: 10em;\n",
       "  background: linear-gradient(90deg, #d65f5f 6.0%, transparent 6.0%);\n",
       "}\n",
       "#T_453f7_row4_col3 {\n",
       "  width: 10em;\n",
       "  background: linear-gradient(90deg, #d65f5f 3.7%, transparent 3.7%);\n",
       "}\n",
       "#T_453f7_row5_col3 {\n",
       "  width: 10em;\n",
       "  background: linear-gradient(90deg, #d65f5f 3.3%, transparent 3.3%);\n",
       "}\n",
       "#T_453f7_row6_col3 {\n",
       "  width: 10em;\n",
       "  background: linear-gradient(90deg, #d65f5f 3.2%, transparent 3.2%);\n",
       "}\n",
       "#T_453f7_row7_col3 {\n",
       "  width: 10em;\n",
       "  background: linear-gradient(90deg, #d65f5f 2.7%, transparent 2.7%);\n",
       "}\n",
       "#T_453f7_row8_col3 {\n",
       "  width: 10em;\n",
       "  background: linear-gradient(90deg, #d65f5f 1.6%, transparent 1.6%);\n",
       "}\n",
       "#T_453f7_row9_col3 {\n",
       "  width: 10em;\n",
       "  background: linear-gradient(90deg, #d65f5f 0.9%, transparent 0.9%);\n",
       "}\n",
       "</style>\n",
       "<table id=\"T_453f7\">\n",
       "  <thead>\n",
       "    <tr>\n",
       "      <th class=\"blank level0\" >&nbsp;</th>\n",
       "      <th id=\"T_453f7_level0_col0\" class=\"col_heading level0 col0\" >category_code</th>\n",
       "      <th id=\"T_453f7_level0_col1\" class=\"col_heading level0 col1\" >item_viewed_cnt</th>\n",
       "      <th id=\"T_453f7_level0_col2\" class=\"col_heading level0 col2\" >item_purchased_cnt</th>\n",
       "      <th id=\"T_453f7_level0_col3\" class=\"col_heading level0 col3\" >revenue</th>\n",
       "    </tr>\n",
       "  </thead>\n",
       "  <tbody>\n",
       "    <tr>\n",
       "      <th id=\"T_453f7_level0_row0\" class=\"row_heading level0 row0\" >1</th>\n",
       "      <td id=\"T_453f7_row0_col0\" class=\"data row0 col0\" >electronics.smartphone</td>\n",
       "      <td id=\"T_453f7_row0_col1\" class=\"data row0 col1\" >14830550</td>\n",
       "      <td id=\"T_453f7_row0_col2\" class=\"data row0 col2\" >382150</td>\n",
       "      <td id=\"T_453f7_row0_col3\" class=\"data row0 col3\" >$177694981</td>\n",
       "    </tr>\n",
       "    <tr>\n",
       "      <th id=\"T_453f7_level0_row1\" class=\"row_heading level0 row1\" >3</th>\n",
       "      <td id=\"T_453f7_row1_col0\" class=\"data row1 col0\" >undefined</td>\n",
       "      <td id=\"T_453f7_row1_col1\" class=\"data row1 col1\" >20824435</td>\n",
       "      <td id=\"T_453f7_row1_col2\" class=\"data row1 col2\" >234217</td>\n",
       "      <td id=\"T_453f7_row1_col3\" class=\"data row1 col3\" >$29880313</td>\n",
       "    </tr>\n",
       "    <tr>\n",
       "      <th id=\"T_453f7_level0_row2\" class=\"row_heading level0 row2\" >2</th>\n",
       "      <td id=\"T_453f7_row2_col0\" class=\"data row2 col0\" >electronics.video.tv</td>\n",
       "      <td id=\"T_453f7_row2_col1\" class=\"data row2 col1\" >2070916</td>\n",
       "      <td id=\"T_453f7_row2_col2\" class=\"data row2 col2\" >30274</td>\n",
       "      <td id=\"T_453f7_row2_col3\" class=\"data row2 col3\" >$12457151</td>\n",
       "    </tr>\n",
       "    <tr>\n",
       "      <th id=\"T_453f7_level0_row3\" class=\"row_heading level0 row3\" >7</th>\n",
       "      <td id=\"T_453f7_row3_col0\" class=\"data row3 col0\" >computers.notebook</td>\n",
       "      <td id=\"T_453f7_row3_col1\" class=\"data row3 col1\" >2102264</td>\n",
       "      <td id=\"T_453f7_row3_col2\" class=\"data row3 col2\" >18425</td>\n",
       "      <td id=\"T_453f7_row3_col3\" class=\"data row3 col3\" >$10676228</td>\n",
       "    </tr>\n",
       "    <tr>\n",
       "      <th id=\"T_453f7_level0_row4\" class=\"row_heading level0 row4\" >5</th>\n",
       "      <td id=\"T_453f7_row4_col0\" class=\"data row4 col0\" >electronics.clocks</td>\n",
       "      <td id=\"T_453f7_row4_col1\" class=\"data row4 col1\" >1994363</td>\n",
       "      <td id=\"T_453f7_row4_col2\" class=\"data row4 col2\" >23228</td>\n",
       "      <td id=\"T_453f7_row4_col3\" class=\"data row4 col3\" >$6550398</td>\n",
       "    </tr>\n",
       "    <tr>\n",
       "      <th id=\"T_453f7_level0_row5\" class=\"row_heading level0 row5\" >16</th>\n",
       "      <td id=\"T_453f7_row5_col0\" class=\"data row5 col0\" >appliances.kitchen.washer</td>\n",
       "      <td id=\"T_453f7_row5_col1\" class=\"data row5 col1\" >1313463</td>\n",
       "      <td id=\"T_453f7_row5_col2\" class=\"data row5 col2\" >19772</td>\n",
       "      <td id=\"T_453f7_row5_col3\" class=\"data row5 col3\" >$5801906</td>\n",
       "    </tr>\n",
       "    <tr>\n",
       "      <th id=\"T_453f7_level0_row6\" class=\"row_heading level0 row6\" >18</th>\n",
       "      <td id=\"T_453f7_row6_col0\" class=\"data row6 col0\" >electronics.audio.headphone</td>\n",
       "      <td id=\"T_453f7_row6_col1\" class=\"data row6 col1\" >1644500</td>\n",
       "      <td id=\"T_453f7_row6_col2\" class=\"data row6 col2\" >40832</td>\n",
       "      <td id=\"T_453f7_row6_col3\" class=\"data row6 col3\" >$5669456</td>\n",
       "    </tr>\n",
       "    <tr>\n",
       "      <th id=\"T_453f7_level0_row7\" class=\"row_heading level0 row7\" >11</th>\n",
       "      <td id=\"T_453f7_row7_col0\" class=\"data row7 col0\" >appliances.kitchen.refrigerators</td>\n",
       "      <td id=\"T_453f7_row7_col1\" class=\"data row7 col1\" >1359836</td>\n",
       "      <td id=\"T_453f7_row7_col2\" class=\"data row7 col2\" >13042</td>\n",
       "      <td id=\"T_453f7_row7_col3\" class=\"data row7 col3\" >$4722657</td>\n",
       "    </tr>\n",
       "    <tr>\n",
       "      <th id=\"T_453f7_level0_row8\" class=\"row_heading level0 row8\" >0</th>\n",
       "      <td id=\"T_453f7_row8_col0\" class=\"data row8 col0\" >appliances.environment.vacuum</td>\n",
       "      <td id=\"T_453f7_row8_col1\" class=\"data row8 col1\" >1444815</td>\n",
       "      <td id=\"T_453f7_row8_col2\" class=\"data row8 col2\" >18193</td>\n",
       "      <td id=\"T_453f7_row8_col3\" class=\"data row8 col3\" >$2762312</td>\n",
       "    </tr>\n",
       "    <tr>\n",
       "      <th id=\"T_453f7_level0_row9\" class=\"row_heading level0 row9\" >17</th>\n",
       "      <td id=\"T_453f7_row9_col0\" class=\"data row9 col0\" >computers.desktop</td>\n",
       "      <td id=\"T_453f7_row9_col1\" class=\"data row9 col1\" >673875</td>\n",
       "      <td id=\"T_453f7_row9_col2\" class=\"data row9 col2\" >3781</td>\n",
       "      <td id=\"T_453f7_row9_col3\" class=\"data row9 col3\" >$1556638</td>\n",
       "    </tr>\n",
       "  </tbody>\n",
       "</table>\n"
      ],
      "text/plain": [
       "<pandas.io.formats.style.Styler at 0x26b61c1abd0>"
      ]
     },
     "execution_count": 4,
     "metadata": {},
     "output_type": "execute_result"
    }
   ],
   "source": [
    "df_category_stat.sort_values('revenue', ascending=False).head(10).style.format({'revenue': '${:.0f}'}).bar(subset=['revenue'])"
   ]
  },
  {
   "attachments": {},
   "cell_type": "markdown",
   "metadata": {},
   "source": [
    "Clearly, Smartphones generate the most of the revenue."
   ]
  },
  {
   "cell_type": "code",
   "execution_count": 10,
   "metadata": {},
   "outputs": [],
   "source": [
    "df_category_stat['parent_category'] = df_category_stat['category_code'].apply(lambda s: s.split('.')[0])\n",
    "df_category_stat = df_category_stat.groupby('parent_category')[['item_viewed_cnt', 'item_purchased_cnt', 'revenue']].sum().sort_values('revenue', ascending=False)\n",
    "df_category_stat['conversion_to_purchase'] = df_category_stat['item_purchased_cnt'] / df_category_stat['item_viewed_cnt']\n"
   ]
  },
  {
   "cell_type": "code",
   "execution_count": 11,
   "metadata": {},
   "outputs": [
    {
     "data": {
      "text/html": [
       "<style type=\"text/css\">\n",
       "#T_da48e_row0_col3 {\n",
       "  background-color: #023858;\n",
       "  color: #f1f1f1;\n",
       "}\n",
       "#T_da48e_row1_col3 {\n",
       "  background-color: #97b7d7;\n",
       "  color: #000000;\n",
       "}\n",
       "#T_da48e_row2_col3 {\n",
       "  background-color: #81aed2;\n",
       "  color: #f1f1f1;\n",
       "}\n",
       "#T_da48e_row3_col3 {\n",
       "  background-color: #cacee5;\n",
       "  color: #000000;\n",
       "}\n",
       "#T_da48e_row4_col3 {\n",
       "  background-color: #eee9f3;\n",
       "  color: #000000;\n",
       "}\n",
       "#T_da48e_row5_col3 {\n",
       "  background-color: #bfc9e1;\n",
       "  color: #000000;\n",
       "}\n",
       "#T_da48e_row6_col3 {\n",
       "  background-color: #f4eef6;\n",
       "  color: #000000;\n",
       "}\n",
       "#T_da48e_row7_col3 {\n",
       "  background-color: #ced0e6;\n",
       "  color: #000000;\n",
       "}\n",
       "#T_da48e_row8_col3 {\n",
       "  background-color: #d2d3e7;\n",
       "  color: #000000;\n",
       "}\n",
       "#T_da48e_row9_col3 {\n",
       "  background-color: #e8e4f0;\n",
       "  color: #000000;\n",
       "}\n",
       "#T_da48e_row10_col3 {\n",
       "  background-color: #eee8f3;\n",
       "  color: #000000;\n",
       "}\n",
       "#T_da48e_row11_col3 {\n",
       "  background-color: #1c7fb8;\n",
       "  color: #f1f1f1;\n",
       "}\n",
       "#T_da48e_row12_col3 {\n",
       "  background-color: #fff7fb;\n",
       "  color: #000000;\n",
       "}\n",
       "#T_da48e_row13_col3 {\n",
       "  background-color: #2786bb;\n",
       "  color: #f1f1f1;\n",
       "}\n",
       "</style>\n",
       "<table id=\"T_da48e\">\n",
       "  <thead>\n",
       "    <tr>\n",
       "      <th class=\"blank level0\" >&nbsp;</th>\n",
       "      <th id=\"T_da48e_level0_col0\" class=\"col_heading level0 col0\" >item_viewed_cnt</th>\n",
       "      <th id=\"T_da48e_level0_col1\" class=\"col_heading level0 col1\" >item_purchased_cnt</th>\n",
       "      <th id=\"T_da48e_level0_col2\" class=\"col_heading level0 col2\" >revenue</th>\n",
       "      <th id=\"T_da48e_level0_col3\" class=\"col_heading level0 col3\" >conversion_to_purchase</th>\n",
       "    </tr>\n",
       "    <tr>\n",
       "      <th class=\"index_name level0\" >parent_category</th>\n",
       "      <th class=\"blank col0\" >&nbsp;</th>\n",
       "      <th class=\"blank col1\" >&nbsp;</th>\n",
       "      <th class=\"blank col2\" >&nbsp;</th>\n",
       "      <th class=\"blank col3\" >&nbsp;</th>\n",
       "    </tr>\n",
       "  </thead>\n",
       "  <tbody>\n",
       "    <tr>\n",
       "      <th id=\"T_da48e_level0_row0\" class=\"row_heading level0 row0\" >electronics</th>\n",
       "      <td id=\"T_da48e_row0_col0\" class=\"data row0 col0\" >21985298</td>\n",
       "      <td id=\"T_da48e_row0_col1\" class=\"data row0 col1\" >493129</td>\n",
       "      <td id=\"T_da48e_row0_col2\" class=\"data row0 col2\" >205120584.330014</td>\n",
       "      <td id=\"T_da48e_row0_col3\" class=\"data row0 col3\" >2.24%</td>\n",
       "    </tr>\n",
       "    <tr>\n",
       "      <th id=\"T_da48e_level0_row1\" class=\"row_heading level0 row1\" >undefined</th>\n",
       "      <td id=\"T_da48e_row1_col0\" class=\"data row1 col0\" >20824435</td>\n",
       "      <td id=\"T_da48e_row1_col1\" class=\"data row1 col1\" >234217</td>\n",
       "      <td id=\"T_da48e_row1_col2\" class=\"data row1 col2\" >29880312.850001</td>\n",
       "      <td id=\"T_da48e_row1_col3\" class=\"data row1 col3\" >1.12%</td>\n",
       "    </tr>\n",
       "    <tr>\n",
       "      <th id=\"T_da48e_level0_row2\" class=\"row_heading level0 row2\" >appliances</th>\n",
       "      <td id=\"T_da48e_row2_col0\" class=\"data row2 col0\" >8031877</td>\n",
       "      <td id=\"T_da48e_row2_col1\" class=\"data row2 col1\" >99026</td>\n",
       "      <td id=\"T_da48e_row2_col2\" class=\"data row2 col2\" >18640501.670000</td>\n",
       "      <td id=\"T_da48e_row2_col3\" class=\"data row2 col3\" >1.23%</td>\n",
       "    </tr>\n",
       "    <tr>\n",
       "      <th id=\"T_da48e_level0_row3\" class=\"row_heading level0 row3\" >computers</th>\n",
       "      <td id=\"T_da48e_row3_col0\" class=\"data row3 col0\" >4028232</td>\n",
       "      <td id=\"T_da48e_row3_col1\" class=\"data row3 col1\" >34469</td>\n",
       "      <td id=\"T_da48e_row3_col2\" class=\"data row3 col2\" >13992129.200000</td>\n",
       "      <td id=\"T_da48e_row3_col3\" class=\"data row3 col3\" >0.86%</td>\n",
       "    </tr>\n",
       "    <tr>\n",
       "      <th id=\"T_da48e_level0_row4\" class=\"row_heading level0 row4\" >furniture</th>\n",
       "      <td id=\"T_da48e_row4_col0\" class=\"data row4 col0\" >2058239</td>\n",
       "      <td id=\"T_da48e_row4_col1\" class=\"data row4 col1\" >11542</td>\n",
       "      <td id=\"T_da48e_row4_col2\" class=\"data row4 col2\" >2543251.020000</td>\n",
       "      <td id=\"T_da48e_row4_col3\" class=\"data row4 col3\" >0.56%</td>\n",
       "    </tr>\n",
       "    <tr>\n",
       "      <th id=\"T_da48e_level0_row5\" class=\"row_heading level0 row5\" >auto</th>\n",
       "      <td id=\"T_da48e_row5_col0\" class=\"data row5 col0\" >1163016</td>\n",
       "      <td id=\"T_da48e_row5_col1\" class=\"data row5 col1\" >10719</td>\n",
       "      <td id=\"T_da48e_row5_col2\" class=\"data row5 col2\" >1375004.820000</td>\n",
       "      <td id=\"T_da48e_row5_col3\" class=\"data row5 col3\" >0.92%</td>\n",
       "    </tr>\n",
       "    <tr>\n",
       "      <th id=\"T_da48e_level0_row6\" class=\"row_heading level0 row6\" >apparel</th>\n",
       "      <td id=\"T_da48e_row6_col0\" class=\"data row6 col0\" >2942622</td>\n",
       "      <td id=\"T_da48e_row6_col1\" class=\"data row6 col1\" >14215</td>\n",
       "      <td id=\"T_da48e_row6_col2\" class=\"data row6 col2\" >1181025.120000</td>\n",
       "      <td id=\"T_da48e_row6_col3\" class=\"data row6 col3\" >0.48%</td>\n",
       "    </tr>\n",
       "    <tr>\n",
       "      <th id=\"T_da48e_level0_row7\" class=\"row_heading level0 row7\" >construction</th>\n",
       "      <td id=\"T_da48e_row7_col0\" class=\"data row7 col0\" >1047037</td>\n",
       "      <td id=\"T_da48e_row7_col1\" class=\"data row7 col1\" >8699</td>\n",
       "      <td id=\"T_da48e_row7_col2\" class=\"data row7 col2\" >1080390.700000</td>\n",
       "      <td id=\"T_da48e_row7_col3\" class=\"data row7 col3\" >0.83%</td>\n",
       "    </tr>\n",
       "    <tr>\n",
       "      <th id=\"T_da48e_level0_row8\" class=\"row_heading level0 row8\" >kids</th>\n",
       "      <td id=\"T_da48e_row8_col0\" class=\"data row8 col0\" >765732</td>\n",
       "      <td id=\"T_da48e_row8_col1\" class=\"data row8 col1\" >6166</td>\n",
       "      <td id=\"T_da48e_row8_col2\" class=\"data row8 col2\" >723763.260000</td>\n",
       "      <td id=\"T_da48e_row8_col3\" class=\"data row8 col3\" >0.81%</td>\n",
       "    </tr>\n",
       "    <tr>\n",
       "      <th id=\"T_da48e_level0_row9\" class=\"row_heading level0 row9\" >sport</th>\n",
       "      <td id=\"T_da48e_row9_col0\" class=\"data row9 col0\" >240763</td>\n",
       "      <td id=\"T_da48e_row9_col1\" class=\"data row9 col1\" >1489</td>\n",
       "      <td id=\"T_da48e_row9_col2\" class=\"data row9 col2\" >395692.750000</td>\n",
       "      <td id=\"T_da48e_row9_col3\" class=\"data row9 col3\" >0.62%</td>\n",
       "    </tr>\n",
       "    <tr>\n",
       "      <th id=\"T_da48e_level0_row10\" class=\"row_heading level0 row10\" >accessories</th>\n",
       "      <td id=\"T_da48e_row10_col0\" class=\"data row10 col0\" >380373</td>\n",
       "      <td id=\"T_da48e_row10_col1\" class=\"data row10 col1\" >2154</td>\n",
       "      <td id=\"T_da48e_row10_col2\" class=\"data row10 col2\" >98203.020000</td>\n",
       "      <td id=\"T_da48e_row10_col3\" class=\"data row10 col3\" >0.57%</td>\n",
       "    </tr>\n",
       "    <tr>\n",
       "      <th id=\"T_da48e_level0_row11\" class=\"row_heading level0 row11\" >medicine</th>\n",
       "      <td id=\"T_da48e_row11_col0\" class=\"data row11 col0\" >20764</td>\n",
       "      <td id=\"T_da48e_row11_col1\" class=\"data row11 col1\" >344</td>\n",
       "      <td id=\"T_da48e_row11_col2\" class=\"data row11 col2\" >16442.950000</td>\n",
       "      <td id=\"T_da48e_row11_col3\" class=\"data row11 col3\" >1.66%</td>\n",
       "    </tr>\n",
       "    <tr>\n",
       "      <th id=\"T_da48e_level0_row12\" class=\"row_heading level0 row12\" >country_yard</th>\n",
       "      <td id=\"T_da48e_row12_col0\" class=\"data row12 col0\" >17299</td>\n",
       "      <td id=\"T_da48e_row12_col1\" class=\"data row12 col1\" >60</td>\n",
       "      <td id=\"T_da48e_row12_col2\" class=\"data row12 col2\" >12447.130000</td>\n",
       "      <td id=\"T_da48e_row12_col3\" class=\"data row12 col3\" >0.35%</td>\n",
       "    </tr>\n",
       "    <tr>\n",
       "      <th id=\"T_da48e_level0_row13\" class=\"row_heading level0 row13\" >stationery</th>\n",
       "      <td id=\"T_da48e_row13_col0\" class=\"data row13 col0\" >11943</td>\n",
       "      <td id=\"T_da48e_row13_col1\" class=\"data row13 col1\" >191</td>\n",
       "      <td id=\"T_da48e_row13_col2\" class=\"data row13 col2\" >3212.480000</td>\n",
       "      <td id=\"T_da48e_row13_col3\" class=\"data row13 col3\" >1.60%</td>\n",
       "    </tr>\n",
       "  </tbody>\n",
       "</table>\n"
      ],
      "text/plain": [
       "<pandas.io.formats.style.Styler at 0x26b60897950>"
      ]
     },
     "execution_count": 11,
     "metadata": {},
     "output_type": "execute_result"
    }
   ],
   "source": [
    "\n",
    "df_category_stat.style.format({'conversion_to_purchase': '{:,.2%}'}).background_gradient(subset=['conversion_to_purchase'])"
   ]
  },
  {
   "attachments": {},
   "cell_type": "markdown",
   "metadata": {},
   "source": [
    "_Conversion to Purchase_ tells us, how user is willing to buy the item. In other words, hot easy it's to sell this item to them.\n",
    "\n",
    "The business may want to develop sections with goods, that have high conversion to purchase, such as `electronics`, `appliances`, `auto`, `computers`. Unfortunately, categories `medicine` and `stationery` are very small, and there is not much potential for busines.\n",
    "\n",
    "Taking into account special interest to the Electronics category, especially in smartphones, we can consider increasing prices there.\n"
   ]
  },
  {
   "attachments": {},
   "cell_type": "markdown",
   "metadata": {},
   "source": [
    "#### \"People buy together\""
   ]
  },
  {
   "cell_type": "code",
   "execution_count": 35,
   "metadata": {},
   "outputs": [
    {
     "name": "stdout",
     "output_type": "stream",
     "text": [
      "*  duckdb://:***@/ecommerce_store.duckdb\n",
      "Done.\n"
     ]
    }
   ],
   "source": [
    "%%sql df_buy_together <<\n",
    "\n",
    "with a as (\n",
    "    select user_id,\n",
    "           count(*)                                           as purchase_cnt,\n",
    "           string_agg(split_part(category_code, '.', 1), ', ') as purchase_categories\n",
    "    from user_event\n",
    "    where event_type = 'purchase'\n",
    "    group by user_id\n",
    ")\n",
    "select purchase_categories\n",
    "from a\n",
    "where purchase_cnt >= 2;"
   ]
  },
  {
   "cell_type": "code",
   "execution_count": null,
   "metadata": {},
   "outputs": [],
   "source": [
    "import collections\n",
    "\n",
    "import numpy as np\n",
    "import pandas as pd\n",
    "from tqdm import tqdm\n",
    "\n",
    "user_purchase_categories = [s.split(', ') for s in df_buy_together['purchase_categories'].values]\n",
    "\n",
    "categories = df_category_stat.reset_index()['parent_category'].unique()\n",
    "df_cat_frequency = pd.DataFrame(data=np.zeros(shape=(len(categories), len(categories))), columns=categories, index=categories)\n",
    "\n",
    "for user_cat_lst in tqdm(user_purchase_categories):\n",
    "    purchase_dict = dict(collections.Counter(user_cat_lst))\n",
    "    for cat in purchase_dict.keys():\n",
    "        df_cat_frequency.loc[cat, cat] += purchase_dict[cat] - 1\n",
    "        for other_cat in purchase_dict.keys():\n",
    "            if cat != other_cat:\n",
    "                df_cat_frequency.loc[other_cat, cat] += purchase_dict[other_cat]\n",
    "\n",
    "\n",
    "for cat in categories:\n",
    "    df_cat_frequency[cat] = df_cat_frequency[cat] / df_cat_frequency[cat].sum()\n",
    "    df_cat_frequency.loc[cat, cat] = 0"
   ]
  },
  {
   "cell_type": "code",
   "execution_count": 66,
   "metadata": {},
   "outputs": [
    {
     "name": "stdout",
     "output_type": "stream",
     "text": [
      "Explanation: \n",
      "\teach column represents a category of purchased goods.\n",
      "\tIt contains information about what other categories were purchased by the same users.\n"
     ]
    },
    {
     "data": {
      "text/html": [
       "<style type=\"text/css\">\n",
       "#T_3c7e3_row0_col0, #T_3c7e3_row1_col1, #T_3c7e3_row2_col2, #T_3c7e3_row3_col3, #T_3c7e3_row4_col4, #T_3c7e3_row5_col5, #T_3c7e3_row6_col6, #T_3c7e3_row7_col7, #T_3c7e3_row8_col8, #T_3c7e3_row8_col12, #T_3c7e3_row9_col3, #T_3c7e3_row9_col9, #T_3c7e3_row9_col10, #T_3c7e3_row9_col13, #T_3c7e3_row10_col9, #T_3c7e3_row10_col10, #T_3c7e3_row10_col11, #T_3c7e3_row10_col12, #T_3c7e3_row10_col13, #T_3c7e3_row11_col0, #T_3c7e3_row11_col1, #T_3c7e3_row11_col2, #T_3c7e3_row11_col3, #T_3c7e3_row11_col4, #T_3c7e3_row11_col5, #T_3c7e3_row11_col6, #T_3c7e3_row11_col7, #T_3c7e3_row11_col8, #T_3c7e3_row11_col9, #T_3c7e3_row11_col10, #T_3c7e3_row11_col11, #T_3c7e3_row11_col12, #T_3c7e3_row11_col13, #T_3c7e3_row12_col0, #T_3c7e3_row12_col1, #T_3c7e3_row12_col2, #T_3c7e3_row12_col3, #T_3c7e3_row12_col4, #T_3c7e3_row12_col5, #T_3c7e3_row12_col6, #T_3c7e3_row12_col7, #T_3c7e3_row12_col8, #T_3c7e3_row12_col9, #T_3c7e3_row12_col10, #T_3c7e3_row12_col11, #T_3c7e3_row12_col12, #T_3c7e3_row12_col13, #T_3c7e3_row13_col0, #T_3c7e3_row13_col1, #T_3c7e3_row13_col2, #T_3c7e3_row13_col3, #T_3c7e3_row13_col4, #T_3c7e3_row13_col5, #T_3c7e3_row13_col6, #T_3c7e3_row13_col7, #T_3c7e3_row13_col8, #T_3c7e3_row13_col9, #T_3c7e3_row13_col10, #T_3c7e3_row13_col11, #T_3c7e3_row13_col12, #T_3c7e3_row13_col13 {\n",
       "  background-color: #fff7fb;\n",
       "  color: #000000;\n",
       "}\n",
       "#T_3c7e3_row0_col1, #T_3c7e3_row0_col2, #T_3c7e3_row0_col3, #T_3c7e3_row0_col5, #T_3c7e3_row0_col6, #T_3c7e3_row0_col8, #T_3c7e3_row0_col9, #T_3c7e3_row0_col11, #T_3c7e3_row1_col0, #T_3c7e3_row1_col4, #T_3c7e3_row1_col7, #T_3c7e3_row1_col10, #T_3c7e3_row1_col12, #T_3c7e3_row1_col13 {\n",
       "  background-color: #023858;\n",
       "  color: #f1f1f1;\n",
       "}\n",
       "#T_3c7e3_row0_col4 {\n",
       "  background-color: #045b8e;\n",
       "  color: #f1f1f1;\n",
       "}\n",
       "#T_3c7e3_row0_col7 {\n",
       "  background-color: #034369;\n",
       "  color: #f1f1f1;\n",
       "}\n",
       "#T_3c7e3_row0_col10 {\n",
       "  background-color: #03476f;\n",
       "  color: #f1f1f1;\n",
       "}\n",
       "#T_3c7e3_row0_col12 {\n",
       "  background-color: #328dbf;\n",
       "  color: #f1f1f1;\n",
       "}\n",
       "#T_3c7e3_row0_col13, #T_3c7e3_row3_col10 {\n",
       "  background-color: #b0c2de;\n",
       "  color: #000000;\n",
       "}\n",
       "#T_3c7e3_row1_col2 {\n",
       "  background-color: #308cbe;\n",
       "  color: #f1f1f1;\n",
       "}\n",
       "#T_3c7e3_row1_col3 {\n",
       "  background-color: #a7bddb;\n",
       "  color: #000000;\n",
       "}\n",
       "#T_3c7e3_row1_col5 {\n",
       "  background-color: #0570b0;\n",
       "  color: #f1f1f1;\n",
       "}\n",
       "#T_3c7e3_row1_col6 {\n",
       "  background-color: #0c74b2;\n",
       "  color: #f1f1f1;\n",
       "}\n",
       "#T_3c7e3_row1_col8 {\n",
       "  background-color: #045483;\n",
       "  color: #f1f1f1;\n",
       "}\n",
       "#T_3c7e3_row1_col9 {\n",
       "  background-color: #056faf;\n",
       "  color: #f1f1f1;\n",
       "}\n",
       "#T_3c7e3_row1_col11 {\n",
       "  background-color: #034c78;\n",
       "  color: #f1f1f1;\n",
       "}\n",
       "#T_3c7e3_row2_col0, #T_3c7e3_row2_col4 {\n",
       "  background-color: #96b6d7;\n",
       "  color: #000000;\n",
       "}\n",
       "#T_3c7e3_row2_col1 {\n",
       "  background-color: #d2d2e7;\n",
       "  color: #000000;\n",
       "}\n",
       "#T_3c7e3_row2_col3 {\n",
       "  background-color: #e4e1ef;\n",
       "  color: #000000;\n",
       "}\n",
       "#T_3c7e3_row2_col5 {\n",
       "  background-color: #e6e2ef;\n",
       "  color: #000000;\n",
       "}\n",
       "#T_3c7e3_row2_col6, #T_3c7e3_row2_col9 {\n",
       "  background-color: #e0dded;\n",
       "  color: #000000;\n",
       "}\n",
       "#T_3c7e3_row2_col7 {\n",
       "  background-color: #91b5d6;\n",
       "  color: #000000;\n",
       "}\n",
       "#T_3c7e3_row2_col8 {\n",
       "  background-color: #c5cce3;\n",
       "  color: #000000;\n",
       "}\n",
       "#T_3c7e3_row2_col10 {\n",
       "  background-color: #d4d4e8;\n",
       "  color: #000000;\n",
       "}\n",
       "#T_3c7e3_row2_col11 {\n",
       "  background-color: #acc0dd;\n",
       "  color: #000000;\n",
       "}\n",
       "#T_3c7e3_row2_col12 {\n",
       "  background-color: #cacee5;\n",
       "  color: #000000;\n",
       "}\n",
       "#T_3c7e3_row2_col13 {\n",
       "  background-color: #cccfe5;\n",
       "  color: #000000;\n",
       "}\n",
       "#T_3c7e3_row3_col0 {\n",
       "  background-color: #dfddec;\n",
       "  color: #000000;\n",
       "}\n",
       "#T_3c7e3_row3_col1, #T_3c7e3_row6_col8 {\n",
       "  background-color: #f2ecf5;\n",
       "  color: #000000;\n",
       "}\n",
       "#T_3c7e3_row3_col2, #T_3c7e3_row6_col0 {\n",
       "  background-color: #f4edf6;\n",
       "  color: #000000;\n",
       "}\n",
       "#T_3c7e3_row3_col4, #T_3c7e3_row6_col11 {\n",
       "  background-color: #f1ebf4;\n",
       "  color: #000000;\n",
       "}\n",
       "#T_3c7e3_row3_col5, #T_3c7e3_row5_col7, #T_3c7e3_row6_col1 {\n",
       "  background-color: #f7f0f7;\n",
       "  color: #000000;\n",
       "}\n",
       "#T_3c7e3_row3_col6, #T_3c7e3_row6_col9, #T_3c7e3_row7_col13 {\n",
       "  background-color: #f6eff7;\n",
       "  color: #000000;\n",
       "}\n",
       "#T_3c7e3_row3_col7, #T_3c7e3_row6_col4 {\n",
       "  background-color: #f3edf5;\n",
       "  color: #000000;\n",
       "}\n",
       "#T_3c7e3_row3_col8, #T_3c7e3_row4_col1, #T_3c7e3_row4_col2, #T_3c7e3_row4_col7, #T_3c7e3_row5_col0, #T_3c7e3_row6_col2 {\n",
       "  background-color: #f8f1f8;\n",
       "  color: #000000;\n",
       "}\n",
       "#T_3c7e3_row3_col9 {\n",
       "  background-color: #f4eef6;\n",
       "  color: #000000;\n",
       "}\n",
       "#T_3c7e3_row3_col11, #T_3c7e3_row4_col9 {\n",
       "  background-color: #f5eff6;\n",
       "  color: #000000;\n",
       "}\n",
       "#T_3c7e3_row3_col12 {\n",
       "  background-color: #e3e0ee;\n",
       "  color: #000000;\n",
       "}\n",
       "#T_3c7e3_row3_col13 {\n",
       "  background-color: #b7c5df;\n",
       "  color: #000000;\n",
       "}\n",
       "#T_3c7e3_row4_col0, #T_3c7e3_row4_col13, #T_3c7e3_row5_col13, #T_3c7e3_row6_col7 {\n",
       "  background-color: #f9f2f8;\n",
       "  color: #000000;\n",
       "}\n",
       "#T_3c7e3_row4_col3, #T_3c7e3_row5_col2, #T_3c7e3_row5_col9, #T_3c7e3_row5_col11, #T_3c7e3_row7_col8, #T_3c7e3_row8_col1, #T_3c7e3_row8_col2, #T_3c7e3_row8_col9, #T_3c7e3_row8_col13 {\n",
       "  background-color: #fcf4fa;\n",
       "  color: #000000;\n",
       "}\n",
       "#T_3c7e3_row4_col5, #T_3c7e3_row5_col3, #T_3c7e3_row5_col4, #T_3c7e3_row5_col6, #T_3c7e3_row5_col8, #T_3c7e3_row7_col3, #T_3c7e3_row7_col6, #T_3c7e3_row7_col11, #T_3c7e3_row9_col11, #T_3c7e3_row10_col3, #T_3c7e3_row10_col6 {\n",
       "  background-color: #fdf5fa;\n",
       "  color: #000000;\n",
       "}\n",
       "#T_3c7e3_row4_col6, #T_3c7e3_row4_col10, #T_3c7e3_row7_col5, #T_3c7e3_row8_col11 {\n",
       "  background-color: #faf2f8;\n",
       "  color: #000000;\n",
       "}\n",
       "#T_3c7e3_row4_col8 {\n",
       "  background-color: #efe9f3;\n",
       "  color: #000000;\n",
       "}\n",
       "#T_3c7e3_row4_col11, #T_3c7e3_row7_col1, #T_3c7e3_row7_col9, #T_3c7e3_row7_col10, #T_3c7e3_row8_col0, #T_3c7e3_row8_col7, #T_3c7e3_row8_col10 {\n",
       "  background-color: #fbf3f9;\n",
       "  color: #000000;\n",
       "}\n",
       "#T_3c7e3_row4_col12, #T_3c7e3_row8_col4 {\n",
       "  background-color: #f5eef6;\n",
       "  color: #000000;\n",
       "}\n",
       "#T_3c7e3_row5_col1, #T_3c7e3_row6_col5, #T_3c7e3_row6_col12, #T_3c7e3_row7_col0, #T_3c7e3_row7_col2, #T_3c7e3_row7_col4, #T_3c7e3_row9_col12 {\n",
       "  background-color: #faf3f9;\n",
       "  color: #000000;\n",
       "}\n",
       "#T_3c7e3_row5_col10, #T_3c7e3_row6_col3, #T_3c7e3_row8_col6 {\n",
       "  background-color: #fbf4f9;\n",
       "  color: #000000;\n",
       "}\n",
       "#T_3c7e3_row5_col12 {\n",
       "  background-color: #eae6f1;\n",
       "  color: #000000;\n",
       "}\n",
       "#T_3c7e3_row6_col10 {\n",
       "  background-color: #dddbec;\n",
       "  color: #000000;\n",
       "}\n",
       "#T_3c7e3_row6_col13 {\n",
       "  background-color: #dad9ea;\n",
       "  color: #000000;\n",
       "}\n",
       "#T_3c7e3_row7_col12 {\n",
       "  background-color: #dbdaeb;\n",
       "  color: #000000;\n",
       "}\n",
       "#T_3c7e3_row8_col3, #T_3c7e3_row9_col0, #T_3c7e3_row9_col1, #T_3c7e3_row9_col2, #T_3c7e3_row9_col5, #T_3c7e3_row9_col8, #T_3c7e3_row10_col1, #T_3c7e3_row10_col2, #T_3c7e3_row10_col5, #T_3c7e3_row10_col7 {\n",
       "  background-color: #fef6fb;\n",
       "  color: #000000;\n",
       "}\n",
       "#T_3c7e3_row8_col5, #T_3c7e3_row9_col4, #T_3c7e3_row9_col6, #T_3c7e3_row9_col7, #T_3c7e3_row10_col0, #T_3c7e3_row10_col4, #T_3c7e3_row10_col8 {\n",
       "  background-color: #fef6fa;\n",
       "  color: #000000;\n",
       "}\n",
       "</style>\n",
       "<table id=\"T_3c7e3\">\n",
       "  <thead>\n",
       "    <tr>\n",
       "      <th class=\"blank level0\" >&nbsp;</th>\n",
       "      <th id=\"T_3c7e3_level0_col0\" class=\"col_heading level0 col0\" >electronics</th>\n",
       "      <th id=\"T_3c7e3_level0_col1\" class=\"col_heading level0 col1\" >undefined</th>\n",
       "      <th id=\"T_3c7e3_level0_col2\" class=\"col_heading level0 col2\" >appliances</th>\n",
       "      <th id=\"T_3c7e3_level0_col3\" class=\"col_heading level0 col3\" >computers</th>\n",
       "      <th id=\"T_3c7e3_level0_col4\" class=\"col_heading level0 col4\" >furniture</th>\n",
       "      <th id=\"T_3c7e3_level0_col5\" class=\"col_heading level0 col5\" >auto</th>\n",
       "      <th id=\"T_3c7e3_level0_col6\" class=\"col_heading level0 col6\" >apparel</th>\n",
       "      <th id=\"T_3c7e3_level0_col7\" class=\"col_heading level0 col7\" >construction</th>\n",
       "      <th id=\"T_3c7e3_level0_col8\" class=\"col_heading level0 col8\" >kids</th>\n",
       "      <th id=\"T_3c7e3_level0_col9\" class=\"col_heading level0 col9\" >sport</th>\n",
       "      <th id=\"T_3c7e3_level0_col10\" class=\"col_heading level0 col10\" >accessories</th>\n",
       "      <th id=\"T_3c7e3_level0_col11\" class=\"col_heading level0 col11\" >medicine</th>\n",
       "      <th id=\"T_3c7e3_level0_col12\" class=\"col_heading level0 col12\" >country_yard</th>\n",
       "      <th id=\"T_3c7e3_level0_col13\" class=\"col_heading level0 col13\" >stationery</th>\n",
       "    </tr>\n",
       "  </thead>\n",
       "  <tbody>\n",
       "    <tr>\n",
       "      <th id=\"T_3c7e3_level0_row0\" class=\"row_heading level0 row0\" >electronics</th>\n",
       "      <td id=\"T_3c7e3_row0_col0\" class=\"data row0 col0\" >0%</td>\n",
       "      <td id=\"T_3c7e3_row0_col1\" class=\"data row0 col1\" >40%</td>\n",
       "      <td id=\"T_3c7e3_row0_col2\" class=\"data row0 col2\" >38%</td>\n",
       "      <td id=\"T_3c7e3_row0_col3\" class=\"data row0 col3\" >46%</td>\n",
       "      <td id=\"T_3c7e3_row0_col4\" class=\"data row0 col4\" >28%</td>\n",
       "      <td id=\"T_3c7e3_row0_col5\" class=\"data row0 col5\" >40%</td>\n",
       "      <td id=\"T_3c7e3_row0_col6\" class=\"data row0 col6\" >39%</td>\n",
       "      <td id=\"T_3c7e3_row0_col7\" class=\"data row0 col7\" >30%</td>\n",
       "      <td id=\"T_3c7e3_row0_col8\" class=\"data row0 col8\" >34%</td>\n",
       "      <td id=\"T_3c7e3_row0_col9\" class=\"data row0 col9\" >40%</td>\n",
       "      <td id=\"T_3c7e3_row0_col10\" class=\"data row0 col10\" >30%</td>\n",
       "      <td id=\"T_3c7e3_row0_col11\" class=\"data row0 col11\" >36%</td>\n",
       "      <td id=\"T_3c7e3_row0_col12\" class=\"data row0 col12\" >23%</td>\n",
       "      <td id=\"T_3c7e3_row0_col13\" class=\"data row0 col13\" >10%</td>\n",
       "    </tr>\n",
       "    <tr>\n",
       "      <th id=\"T_3c7e3_level0_row1\" class=\"row_heading level0 row1\" >undefined</th>\n",
       "      <td id=\"T_3c7e3_row1_col0\" class=\"data row1 col0\" >17%</td>\n",
       "      <td id=\"T_3c7e3_row1_col1\" class=\"data row1 col1\" >0%</td>\n",
       "      <td id=\"T_3c7e3_row1_col2\" class=\"data row1 col2\" >24%</td>\n",
       "      <td id=\"T_3c7e3_row1_col3\" class=\"data row1 col3\" >17%</td>\n",
       "      <td id=\"T_3c7e3_row1_col4\" class=\"data row1 col4\" >32%</td>\n",
       "      <td id=\"T_3c7e3_row1_col5\" class=\"data row1 col5\" >30%</td>\n",
       "      <td id=\"T_3c7e3_row1_col6\" class=\"data row1 col6\" >29%</td>\n",
       "      <td id=\"T_3c7e3_row1_col7\" class=\"data row1 col7\" >32%</td>\n",
       "      <td id=\"T_3c7e3_row1_col8\" class=\"data row1 col8\" >31%</td>\n",
       "      <td id=\"T_3c7e3_row1_col9\" class=\"data row1 col9\" >30%</td>\n",
       "      <td id=\"T_3c7e3_row1_col10\" class=\"data row1 col10\" >32%</td>\n",
       "      <td id=\"T_3c7e3_row1_col11\" class=\"data row1 col11\" >33%</td>\n",
       "      <td id=\"T_3c7e3_row1_col12\" class=\"data row1 col12\" >37%</td>\n",
       "      <td id=\"T_3c7e3_row1_col13\" class=\"data row1 col13\" >29%</td>\n",
       "    </tr>\n",
       "    <tr>\n",
       "      <th id=\"T_3c7e3_level0_row2\" class=\"row_heading level0 row2\" >appliances</th>\n",
       "      <td id=\"T_3c7e3_row2_col0\" class=\"data row2 col0\" >7%</td>\n",
       "      <td id=\"T_3c7e3_row2_col1\" class=\"data row2 col1\" >10%</td>\n",
       "      <td id=\"T_3c7e3_row2_col2\" class=\"data row2 col2\" >0%</td>\n",
       "      <td id=\"T_3c7e3_row2_col3\" class=\"data row2 col3\" >7%</td>\n",
       "      <td id=\"T_3c7e3_row2_col4\" class=\"data row2 col4\" >13%</td>\n",
       "      <td id=\"T_3c7e3_row2_col5\" class=\"data row2 col5\" >6%</td>\n",
       "      <td id=\"T_3c7e3_row2_col6\" class=\"data row2 col6\" >7%</td>\n",
       "      <td id=\"T_3c7e3_row2_col7\" class=\"data row2 col7\" >14%</td>\n",
       "      <td id=\"T_3c7e3_row2_col8\" class=\"data row2 col8\" >10%</td>\n",
       "      <td id=\"T_3c7e3_row2_col9\" class=\"data row2 col9\" >7%</td>\n",
       "      <td id=\"T_3c7e3_row2_col10\" class=\"data row2 col10\" >7%</td>\n",
       "      <td id=\"T_3c7e3_row2_col11\" class=\"data row2 col11\" >13%</td>\n",
       "      <td id=\"T_3c7e3_row2_col12\" class=\"data row2 col12\" >10%</td>\n",
       "      <td id=\"T_3c7e3_row2_col13\" class=\"data row2 col13\" >8%</td>\n",
       "    </tr>\n",
       "    <tr>\n",
       "      <th id=\"T_3c7e3_level0_row3\" class=\"row_heading level0 row3\" >computers</th>\n",
       "      <td id=\"T_3c7e3_row3_col0\" class=\"data row3 col0\" >3%</td>\n",
       "      <td id=\"T_3c7e3_row3_col1\" class=\"data row3 col1\" >3%</td>\n",
       "      <td id=\"T_3c7e3_row3_col2\" class=\"data row3 col2\" >3%</td>\n",
       "      <td id=\"T_3c7e3_row3_col3\" class=\"data row3 col3\" >0%</td>\n",
       "      <td id=\"T_3c7e3_row3_col4\" class=\"data row3 col4\" >3%</td>\n",
       "      <td id=\"T_3c7e3_row3_col5\" class=\"data row3 col5\" >2%</td>\n",
       "      <td id=\"T_3c7e3_row3_col6\" class=\"data row3 col6\" >2%</td>\n",
       "      <td id=\"T_3c7e3_row3_col7\" class=\"data row3 col7\" >3%</td>\n",
       "      <td id=\"T_3c7e3_row3_col8\" class=\"data row3 col8\" >2%</td>\n",
       "      <td id=\"T_3c7e3_row3_col9\" class=\"data row3 col9\" >3%</td>\n",
       "      <td id=\"T_3c7e3_row3_col10\" class=\"data row3 col10\" >11%</td>\n",
       "      <td id=\"T_3c7e3_row3_col11\" class=\"data row3 col11\" >2%</td>\n",
       "      <td id=\"T_3c7e3_row3_col12\" class=\"data row3 col12\" >6%</td>\n",
       "      <td id=\"T_3c7e3_row3_col13\" class=\"data row3 col13\" >9%</td>\n",
       "    </tr>\n",
       "    <tr>\n",
       "      <th id=\"T_3c7e3_level0_row4\" class=\"row_heading level0 row4\" >furniture</th>\n",
       "      <td id=\"T_3c7e3_row4_col0\" class=\"data row4 col0\" >1%</td>\n",
       "      <td id=\"T_3c7e3_row4_col1\" class=\"data row4 col1\" >2%</td>\n",
       "      <td id=\"T_3c7e3_row4_col2\" class=\"data row4 col2\" >2%</td>\n",
       "      <td id=\"T_3c7e3_row4_col3\" class=\"data row4 col3\" >1%</td>\n",
       "      <td id=\"T_3c7e3_row4_col4\" class=\"data row4 col4\" >0%</td>\n",
       "      <td id=\"T_3c7e3_row4_col5\" class=\"data row4 col5\" >1%</td>\n",
       "      <td id=\"T_3c7e3_row4_col6\" class=\"data row4 col6\" >2%</td>\n",
       "      <td id=\"T_3c7e3_row4_col7\" class=\"data row4 col7\" >2%</td>\n",
       "      <td id=\"T_3c7e3_row4_col8\" class=\"data row4 col8\" >4%</td>\n",
       "      <td id=\"T_3c7e3_row4_col9\" class=\"data row4 col9\" >3%</td>\n",
       "      <td id=\"T_3c7e3_row4_col10\" class=\"data row4 col10\" >1%</td>\n",
       "      <td id=\"T_3c7e3_row4_col11\" class=\"data row4 col11\" >1%</td>\n",
       "      <td id=\"T_3c7e3_row4_col12\" class=\"data row4 col12\" >2%</td>\n",
       "      <td id=\"T_3c7e3_row4_col13\" class=\"data row4 col13\" >1%</td>\n",
       "    </tr>\n",
       "    <tr>\n",
       "      <th id=\"T_3c7e3_level0_row5\" class=\"row_heading level0 row5\" >auto</th>\n",
       "      <td id=\"T_3c7e3_row5_col0\" class=\"data row5 col0\" >1%</td>\n",
       "      <td id=\"T_3c7e3_row5_col1\" class=\"data row5 col1\" >1%</td>\n",
       "      <td id=\"T_3c7e3_row5_col2\" class=\"data row5 col2\" >1%</td>\n",
       "      <td id=\"T_3c7e3_row5_col3\" class=\"data row5 col3\" >1%</td>\n",
       "      <td id=\"T_3c7e3_row5_col4\" class=\"data row5 col4\" >1%</td>\n",
       "      <td id=\"T_3c7e3_row5_col5\" class=\"data row5 col5\" >0%</td>\n",
       "      <td id=\"T_3c7e3_row5_col6\" class=\"data row5 col6\" >1%</td>\n",
       "      <td id=\"T_3c7e3_row5_col7\" class=\"data row5 col7\" >2%</td>\n",
       "      <td id=\"T_3c7e3_row5_col8\" class=\"data row5 col8\" >1%</td>\n",
       "      <td id=\"T_3c7e3_row5_col9\" class=\"data row5 col9\" >1%</td>\n",
       "      <td id=\"T_3c7e3_row5_col10\" class=\"data row5 col10\" >1%</td>\n",
       "      <td id=\"T_3c7e3_row5_col11\" class=\"data row5 col11\" >1%</td>\n",
       "      <td id=\"T_3c7e3_row5_col12\" class=\"data row5 col12\" >5%</td>\n",
       "      <td id=\"T_3c7e3_row5_col13\" class=\"data row5 col13\" >1%</td>\n",
       "    </tr>\n",
       "    <tr>\n",
       "      <th id=\"T_3c7e3_level0_row6\" class=\"row_heading level0 row6\" >apparel</th>\n",
       "      <td id=\"T_3c7e3_row6_col0\" class=\"data row6 col0\" >1%</td>\n",
       "      <td id=\"T_3c7e3_row6_col1\" class=\"data row6 col1\" >2%</td>\n",
       "      <td id=\"T_3c7e3_row6_col2\" class=\"data row6 col2\" >2%</td>\n",
       "      <td id=\"T_3c7e3_row6_col3\" class=\"data row6 col3\" >1%</td>\n",
       "      <td id=\"T_3c7e3_row6_col4\" class=\"data row6 col4\" >3%</td>\n",
       "      <td id=\"T_3c7e3_row6_col5\" class=\"data row6 col5\" >1%</td>\n",
       "      <td id=\"T_3c7e3_row6_col6\" class=\"data row6 col6\" >0%</td>\n",
       "      <td id=\"T_3c7e3_row6_col7\" class=\"data row6 col7\" >1%</td>\n",
       "      <td id=\"T_3c7e3_row6_col8\" class=\"data row6 col8\" >3%</td>\n",
       "      <td id=\"T_3c7e3_row6_col9\" class=\"data row6 col9\" >2%</td>\n",
       "      <td id=\"T_3c7e3_row6_col10\" class=\"data row6 col10\" >6%</td>\n",
       "      <td id=\"T_3c7e3_row6_col11\" class=\"data row6 col11\" >3%</td>\n",
       "      <td id=\"T_3c7e3_row6_col12\" class=\"data row6 col12\" >1%</td>\n",
       "      <td id=\"T_3c7e3_row6_col13\" class=\"data row6 col13\" >6%</td>\n",
       "    </tr>\n",
       "    <tr>\n",
       "      <th id=\"T_3c7e3_level0_row7\" class=\"row_heading level0 row7\" >construction</th>\n",
       "      <td id=\"T_3c7e3_row7_col0\" class=\"data row7 col0\" >1%</td>\n",
       "      <td id=\"T_3c7e3_row7_col1\" class=\"data row7 col1\" >1%</td>\n",
       "      <td id=\"T_3c7e3_row7_col2\" class=\"data row7 col2\" >1%</td>\n",
       "      <td id=\"T_3c7e3_row7_col3\" class=\"data row7 col3\" >1%</td>\n",
       "      <td id=\"T_3c7e3_row7_col4\" class=\"data row7 col4\" >1%</td>\n",
       "      <td id=\"T_3c7e3_row7_col5\" class=\"data row7 col5\" >1%</td>\n",
       "      <td id=\"T_3c7e3_row7_col6\" class=\"data row7 col6\" >1%</td>\n",
       "      <td id=\"T_3c7e3_row7_col7\" class=\"data row7 col7\" >0%</td>\n",
       "      <td id=\"T_3c7e3_row7_col8\" class=\"data row7 col8\" >1%</td>\n",
       "      <td id=\"T_3c7e3_row7_col9\" class=\"data row7 col9\" >1%</td>\n",
       "      <td id=\"T_3c7e3_row7_col10\" class=\"data row7 col10\" >1%</td>\n",
       "      <td id=\"T_3c7e3_row7_col11\" class=\"data row7 col11\" >1%</td>\n",
       "      <td id=\"T_3c7e3_row7_col12\" class=\"data row7 col12\" >7%</td>\n",
       "      <td id=\"T_3c7e3_row7_col13\" class=\"data row7 col13\" >2%</td>\n",
       "    </tr>\n",
       "    <tr>\n",
       "      <th id=\"T_3c7e3_level0_row8\" class=\"row_heading level0 row8\" >kids</th>\n",
       "      <td id=\"T_3c7e3_row8_col0\" class=\"data row8 col0\" >0%</td>\n",
       "      <td id=\"T_3c7e3_row8_col1\" class=\"data row8 col1\" >1%</td>\n",
       "      <td id=\"T_3c7e3_row8_col2\" class=\"data row8 col2\" >1%</td>\n",
       "      <td id=\"T_3c7e3_row8_col3\" class=\"data row8 col3\" >0%</td>\n",
       "      <td id=\"T_3c7e3_row8_col4\" class=\"data row8 col4\" >2%</td>\n",
       "      <td id=\"T_3c7e3_row8_col5\" class=\"data row8 col5\" >0%</td>\n",
       "      <td id=\"T_3c7e3_row8_col6\" class=\"data row8 col6\" >1%</td>\n",
       "      <td id=\"T_3c7e3_row8_col7\" class=\"data row8 col7\" >1%</td>\n",
       "      <td id=\"T_3c7e3_row8_col8\" class=\"data row8 col8\" >0%</td>\n",
       "      <td id=\"T_3c7e3_row8_col9\" class=\"data row8 col9\" >1%</td>\n",
       "      <td id=\"T_3c7e3_row8_col10\" class=\"data row8 col10\" >1%</td>\n",
       "      <td id=\"T_3c7e3_row8_col11\" class=\"data row8 col11\" >1%</td>\n",
       "      <td id=\"T_3c7e3_row8_col12\" class=\"data row8 col12\" >0%</td>\n",
       "      <td id=\"T_3c7e3_row8_col13\" class=\"data row8 col13\" >1%</td>\n",
       "    </tr>\n",
       "    <tr>\n",
       "      <th id=\"T_3c7e3_level0_row9\" class=\"row_heading level0 row9\" >sport</th>\n",
       "      <td id=\"T_3c7e3_row9_col0\" class=\"data row9 col0\" >0%</td>\n",
       "      <td id=\"T_3c7e3_row9_col1\" class=\"data row9 col1\" >0%</td>\n",
       "      <td id=\"T_3c7e3_row9_col2\" class=\"data row9 col2\" >0%</td>\n",
       "      <td id=\"T_3c7e3_row9_col3\" class=\"data row9 col3\" >0%</td>\n",
       "      <td id=\"T_3c7e3_row9_col4\" class=\"data row9 col4\" >0%</td>\n",
       "      <td id=\"T_3c7e3_row9_col5\" class=\"data row9 col5\" >0%</td>\n",
       "      <td id=\"T_3c7e3_row9_col6\" class=\"data row9 col6\" >0%</td>\n",
       "      <td id=\"T_3c7e3_row9_col7\" class=\"data row9 col7\" >0%</td>\n",
       "      <td id=\"T_3c7e3_row9_col8\" class=\"data row9 col8\" >0%</td>\n",
       "      <td id=\"T_3c7e3_row9_col9\" class=\"data row9 col9\" >0%</td>\n",
       "      <td id=\"T_3c7e3_row9_col10\" class=\"data row9 col10\" >0%</td>\n",
       "      <td id=\"T_3c7e3_row9_col11\" class=\"data row9 col11\" >1%</td>\n",
       "      <td id=\"T_3c7e3_row9_col12\" class=\"data row9 col12\" >1%</td>\n",
       "      <td id=\"T_3c7e3_row9_col13\" class=\"data row9 col13\" >0%</td>\n",
       "    </tr>\n",
       "    <tr>\n",
       "      <th id=\"T_3c7e3_level0_row10\" class=\"row_heading level0 row10\" >accessories</th>\n",
       "      <td id=\"T_3c7e3_row10_col0\" class=\"data row10 col0\" >0%</td>\n",
       "      <td id=\"T_3c7e3_row10_col1\" class=\"data row10 col1\" >0%</td>\n",
       "      <td id=\"T_3c7e3_row10_col2\" class=\"data row10 col2\" >0%</td>\n",
       "      <td id=\"T_3c7e3_row10_col3\" class=\"data row10 col3\" >1%</td>\n",
       "      <td id=\"T_3c7e3_row10_col4\" class=\"data row10 col4\" >0%</td>\n",
       "      <td id=\"T_3c7e3_row10_col5\" class=\"data row10 col5\" >0%</td>\n",
       "      <td id=\"T_3c7e3_row10_col6\" class=\"data row10 col6\" >1%</td>\n",
       "      <td id=\"T_3c7e3_row10_col7\" class=\"data row10 col7\" >0%</td>\n",
       "      <td id=\"T_3c7e3_row10_col8\" class=\"data row10 col8\" >0%</td>\n",
       "      <td id=\"T_3c7e3_row10_col9\" class=\"data row10 col9\" >0%</td>\n",
       "      <td id=\"T_3c7e3_row10_col10\" class=\"data row10 col10\" >0%</td>\n",
       "      <td id=\"T_3c7e3_row10_col11\" class=\"data row10 col11\" >0%</td>\n",
       "      <td id=\"T_3c7e3_row10_col12\" class=\"data row10 col12\" >0%</td>\n",
       "      <td id=\"T_3c7e3_row10_col13\" class=\"data row10 col13\" >0%</td>\n",
       "    </tr>\n",
       "    <tr>\n",
       "      <th id=\"T_3c7e3_level0_row11\" class=\"row_heading level0 row11\" >medicine</th>\n",
       "      <td id=\"T_3c7e3_row11_col0\" class=\"data row11 col0\" >0%</td>\n",
       "      <td id=\"T_3c7e3_row11_col1\" class=\"data row11 col1\" >0%</td>\n",
       "      <td id=\"T_3c7e3_row11_col2\" class=\"data row11 col2\" >0%</td>\n",
       "      <td id=\"T_3c7e3_row11_col3\" class=\"data row11 col3\" >0%</td>\n",
       "      <td id=\"T_3c7e3_row11_col4\" class=\"data row11 col4\" >0%</td>\n",
       "      <td id=\"T_3c7e3_row11_col5\" class=\"data row11 col5\" >0%</td>\n",
       "      <td id=\"T_3c7e3_row11_col6\" class=\"data row11 col6\" >0%</td>\n",
       "      <td id=\"T_3c7e3_row11_col7\" class=\"data row11 col7\" >0%</td>\n",
       "      <td id=\"T_3c7e3_row11_col8\" class=\"data row11 col8\" >0%</td>\n",
       "      <td id=\"T_3c7e3_row11_col9\" class=\"data row11 col9\" >0%</td>\n",
       "      <td id=\"T_3c7e3_row11_col10\" class=\"data row11 col10\" >0%</td>\n",
       "      <td id=\"T_3c7e3_row11_col11\" class=\"data row11 col11\" >0%</td>\n",
       "      <td id=\"T_3c7e3_row11_col12\" class=\"data row11 col12\" >0%</td>\n",
       "      <td id=\"T_3c7e3_row11_col13\" class=\"data row11 col13\" >0%</td>\n",
       "    </tr>\n",
       "    <tr>\n",
       "      <th id=\"T_3c7e3_level0_row12\" class=\"row_heading level0 row12\" >country_yard</th>\n",
       "      <td id=\"T_3c7e3_row12_col0\" class=\"data row12 col0\" >0%</td>\n",
       "      <td id=\"T_3c7e3_row12_col1\" class=\"data row12 col1\" >0%</td>\n",
       "      <td id=\"T_3c7e3_row12_col2\" class=\"data row12 col2\" >0%</td>\n",
       "      <td id=\"T_3c7e3_row12_col3\" class=\"data row12 col3\" >0%</td>\n",
       "      <td id=\"T_3c7e3_row12_col4\" class=\"data row12 col4\" >0%</td>\n",
       "      <td id=\"T_3c7e3_row12_col5\" class=\"data row12 col5\" >0%</td>\n",
       "      <td id=\"T_3c7e3_row12_col6\" class=\"data row12 col6\" >0%</td>\n",
       "      <td id=\"T_3c7e3_row12_col7\" class=\"data row12 col7\" >0%</td>\n",
       "      <td id=\"T_3c7e3_row12_col8\" class=\"data row12 col8\" >0%</td>\n",
       "      <td id=\"T_3c7e3_row12_col9\" class=\"data row12 col9\" >0%</td>\n",
       "      <td id=\"T_3c7e3_row12_col10\" class=\"data row12 col10\" >0%</td>\n",
       "      <td id=\"T_3c7e3_row12_col11\" class=\"data row12 col11\" >0%</td>\n",
       "      <td id=\"T_3c7e3_row12_col12\" class=\"data row12 col12\" >0%</td>\n",
       "      <td id=\"T_3c7e3_row12_col13\" class=\"data row12 col13\" >0%</td>\n",
       "    </tr>\n",
       "    <tr>\n",
       "      <th id=\"T_3c7e3_level0_row13\" class=\"row_heading level0 row13\" >stationery</th>\n",
       "      <td id=\"T_3c7e3_row13_col0\" class=\"data row13 col0\" >0%</td>\n",
       "      <td id=\"T_3c7e3_row13_col1\" class=\"data row13 col1\" >0%</td>\n",
       "      <td id=\"T_3c7e3_row13_col2\" class=\"data row13 col2\" >0%</td>\n",
       "      <td id=\"T_3c7e3_row13_col3\" class=\"data row13 col3\" >0%</td>\n",
       "      <td id=\"T_3c7e3_row13_col4\" class=\"data row13 col4\" >0%</td>\n",
       "      <td id=\"T_3c7e3_row13_col5\" class=\"data row13 col5\" >0%</td>\n",
       "      <td id=\"T_3c7e3_row13_col6\" class=\"data row13 col6\" >0%</td>\n",
       "      <td id=\"T_3c7e3_row13_col7\" class=\"data row13 col7\" >0%</td>\n",
       "      <td id=\"T_3c7e3_row13_col8\" class=\"data row13 col8\" >0%</td>\n",
       "      <td id=\"T_3c7e3_row13_col9\" class=\"data row13 col9\" >0%</td>\n",
       "      <td id=\"T_3c7e3_row13_col10\" class=\"data row13 col10\" >0%</td>\n",
       "      <td id=\"T_3c7e3_row13_col11\" class=\"data row13 col11\" >0%</td>\n",
       "      <td id=\"T_3c7e3_row13_col12\" class=\"data row13 col12\" >0%</td>\n",
       "      <td id=\"T_3c7e3_row13_col13\" class=\"data row13 col13\" >0%</td>\n",
       "    </tr>\n",
       "  </tbody>\n",
       "</table>\n"
      ],
      "text/plain": [
       "<pandas.io.formats.style.Styler at 0x22f08322bd0>"
      ]
     },
     "execution_count": 66,
     "metadata": {},
     "output_type": "execute_result"
    }
   ],
   "source": [
    "\n",
    "print('Explanation: \\n\\teach column represents a category of purchased goods.')\n",
    "print('\\tIt contains information about what other categories were purchased by the same users.')\n",
    "df_cat_frequency.style.format('{:,.0%}').background_gradient()"
   ]
  },
  {
   "attachments": {},
   "cell_type": "markdown",
   "metadata": {},
   "source": [
    "We can see, that everyone wants `electronics`, `appliances` and also `undefined` category is popular. That's no surprise, let's exclude these categories to catch some unusual connections:"
   ]
  },
  {
   "cell_type": "code",
   "execution_count": 65,
   "metadata": {},
   "outputs": [
    {
     "data": {
      "text/html": [
       "<style type=\"text/css\">\n",
       "#T_abaa1_row0_col0, #T_abaa1_row0_col1, #T_abaa1_row0_col2, #T_abaa1_row0_col4, #T_abaa1_row0_col5, #T_abaa1_row0_col6, #T_abaa1_row0_col7, #T_abaa1_row0_col9, #T_abaa1_row0_col10, #T_abaa1_row0_col13, #T_abaa1_row1_col8, #T_abaa1_row3_col3, #T_abaa1_row3_col11, #T_abaa1_row4_col12 {\n",
       "  background-color: #023858;\n",
       "  color: #f1f1f1;\n",
       "}\n",
       "#T_abaa1_row0_col3, #T_abaa1_row1_col4, #T_abaa1_row2_col5, #T_abaa1_row3_col6, #T_abaa1_row4_col7, #T_abaa1_row5_col8, #T_abaa1_row5_col12, #T_abaa1_row6_col9, #T_abaa1_row6_col13, #T_abaa1_row7_col10, #T_abaa1_row7_col11, #T_abaa1_row7_col12, #T_abaa1_row7_col13, #T_abaa1_row8_col10, #T_abaa1_row8_col11, #T_abaa1_row8_col12, #T_abaa1_row8_col13, #T_abaa1_row9_col0, #T_abaa1_row9_col1, #T_abaa1_row9_col2, #T_abaa1_row9_col4, #T_abaa1_row9_col6, #T_abaa1_row9_col8, #T_abaa1_row9_col10, #T_abaa1_row9_col11, #T_abaa1_row9_col12, #T_abaa1_row9_col13, #T_abaa1_row10_col0, #T_abaa1_row10_col1, #T_abaa1_row10_col2, #T_abaa1_row10_col4, #T_abaa1_row10_col8, #T_abaa1_row10_col9, #T_abaa1_row10_col10, #T_abaa1_row10_col11, #T_abaa1_row10_col12, #T_abaa1_row10_col13 {\n",
       "  background-color: #fff7fb;\n",
       "  color: #000000;\n",
       "}\n",
       "#T_abaa1_row0_col8, #T_abaa1_row7_col3 {\n",
       "  background-color: #81aed2;\n",
       "  color: #f1f1f1;\n",
       "}\n",
       "#T_abaa1_row0_col11 {\n",
       "  background-color: #2081b9;\n",
       "  color: #f1f1f1;\n",
       "}\n",
       "#T_abaa1_row0_col12 {\n",
       "  background-color: #046198;\n",
       "  color: #f1f1f1;\n",
       "}\n",
       "#T_abaa1_row1_col0 {\n",
       "  background-color: #d5d5e8;\n",
       "  color: #000000;\n",
       "}\n",
       "#T_abaa1_row1_col1 {\n",
       "  background-color: #67a4cc;\n",
       "  color: #f1f1f1;\n",
       "}\n",
       "#T_abaa1_row1_col2, #T_abaa1_row1_col6, #T_abaa1_row4_col5 {\n",
       "  background-color: #2d8abd;\n",
       "  color: #f1f1f1;\n",
       "}\n",
       "#T_abaa1_row1_col3 {\n",
       "  background-color: #056caa;\n",
       "  color: #f1f1f1;\n",
       "}\n",
       "#T_abaa1_row1_col5 {\n",
       "  background-color: #d4d4e8;\n",
       "  color: #000000;\n",
       "}\n",
       "#T_abaa1_row1_col7 {\n",
       "  background-color: #3991c1;\n",
       "  color: #f1f1f1;\n",
       "}\n",
       "#T_abaa1_row1_col9 {\n",
       "  background-color: #045585;\n",
       "  color: #f1f1f1;\n",
       "}\n",
       "#T_abaa1_row1_col10, #T_abaa1_row6_col3 {\n",
       "  background-color: #eee9f3;\n",
       "  color: #000000;\n",
       "}\n",
       "#T_abaa1_row1_col11 {\n",
       "  background-color: #b9c6e0;\n",
       "  color: #000000;\n",
       "}\n",
       "#T_abaa1_row1_col12, #T_abaa1_row4_col4 {\n",
       "  background-color: #b4c4df;\n",
       "  color: #000000;\n",
       "}\n",
       "#T_abaa1_row1_col13, #T_abaa1_row2_col13 {\n",
       "  background-color: #ece7f2;\n",
       "  color: #000000;\n",
       "}\n",
       "#T_abaa1_row2_col0, #T_abaa1_row2_col2 {\n",
       "  background-color: #ced0e6;\n",
       "  color: #000000;\n",
       "}\n",
       "#T_abaa1_row2_col1 {\n",
       "  background-color: #a1bbda;\n",
       "  color: #000000;\n",
       "}\n",
       "#T_abaa1_row2_col3 {\n",
       "  background-color: #60a1ca;\n",
       "  color: #f1f1f1;\n",
       "}\n",
       "#T_abaa1_row2_col4 {\n",
       "  background-color: #dfddec;\n",
       "  color: #000000;\n",
       "}\n",
       "#T_abaa1_row2_col6 {\n",
       "  background-color: #cccfe5;\n",
       "  color: #000000;\n",
       "}\n",
       "#T_abaa1_row2_col7 {\n",
       "  background-color: #1c7fb8;\n",
       "  color: #f1f1f1;\n",
       "}\n",
       "#T_abaa1_row2_col8, #T_abaa1_row3_col12, #T_abaa1_row6_col12 {\n",
       "  background-color: #e3e0ee;\n",
       "  color: #000000;\n",
       "}\n",
       "#T_abaa1_row2_col9, #T_abaa1_row5_col9 {\n",
       "  background-color: #bfc9e1;\n",
       "  color: #000000;\n",
       "}\n",
       "#T_abaa1_row2_col10 {\n",
       "  background-color: #f3edf5;\n",
       "  color: #000000;\n",
       "}\n",
       "#T_abaa1_row2_col11 {\n",
       "  background-color: #d2d3e7;\n",
       "  color: #000000;\n",
       "}\n",
       "#T_abaa1_row2_col12 {\n",
       "  background-color: #2685bb;\n",
       "  color: #f1f1f1;\n",
       "}\n",
       "#T_abaa1_row3_col0, #T_abaa1_row5_col11 {\n",
       "  background-color: #9cb9d9;\n",
       "  color: #000000;\n",
       "}\n",
       "#T_abaa1_row3_col1 {\n",
       "  background-color: #4697c4;\n",
       "  color: #f1f1f1;\n",
       "}\n",
       "#T_abaa1_row3_col2 {\n",
       "  background-color: #4c99c5;\n",
       "  color: #f1f1f1;\n",
       "}\n",
       "#T_abaa1_row3_col4 {\n",
       "  background-color: #046096;\n",
       "  color: #f1f1f1;\n",
       "}\n",
       "#T_abaa1_row3_col5 {\n",
       "  background-color: #529bc7;\n",
       "  color: #f1f1f1;\n",
       "}\n",
       "#T_abaa1_row3_col7 {\n",
       "  background-color: #76aad0;\n",
       "  color: #f1f1f1;\n",
       "}\n",
       "#T_abaa1_row3_col8 {\n",
       "  background-color: #04649d;\n",
       "  color: #f1f1f1;\n",
       "}\n",
       "#T_abaa1_row3_col9 {\n",
       "  background-color: #045f95;\n",
       "  color: #f1f1f1;\n",
       "}\n",
       "#T_abaa1_row3_col10 {\n",
       "  background-color: #549cc7;\n",
       "  color: #f1f1f1;\n",
       "}\n",
       "#T_abaa1_row3_col13 {\n",
       "  background-color: #358fc0;\n",
       "  color: #f1f1f1;\n",
       "}\n",
       "#T_abaa1_row4_col0, #T_abaa1_row5_col5 {\n",
       "  background-color: #e0deed;\n",
       "  color: #000000;\n",
       "}\n",
       "#T_abaa1_row4_col1 {\n",
       "  background-color: #adc1dd;\n",
       "  color: #000000;\n",
       "}\n",
       "#T_abaa1_row4_col2 {\n",
       "  background-color: #96b6d7;\n",
       "  color: #000000;\n",
       "}\n",
       "#T_abaa1_row4_col3 {\n",
       "  background-color: #7dacd1;\n",
       "  color: #f1f1f1;\n",
       "}\n",
       "#T_abaa1_row4_col6, #T_abaa1_row5_col1 {\n",
       "  background-color: #d0d1e6;\n",
       "  color: #000000;\n",
       "}\n",
       "#T_abaa1_row4_col8 {\n",
       "  background-color: #dcdaeb;\n",
       "  color: #000000;\n",
       "}\n",
       "#T_abaa1_row4_col9 {\n",
       "  background-color: #9ebad9;\n",
       "  color: #000000;\n",
       "}\n",
       "#T_abaa1_row4_col10, #T_abaa1_row5_col10, #T_abaa1_row7_col1, #T_abaa1_row7_col5, #T_abaa1_row7_col7 {\n",
       "  background-color: #f2ecf5;\n",
       "  color: #000000;\n",
       "}\n",
       "#T_abaa1_row4_col11 {\n",
       "  background-color: #dbdaeb;\n",
       "  color: #000000;\n",
       "}\n",
       "#T_abaa1_row4_col13 {\n",
       "  background-color: #dedcec;\n",
       "  color: #000000;\n",
       "}\n",
       "#T_abaa1_row5_col0 {\n",
       "  background-color: #e6e2ef;\n",
       "  color: #000000;\n",
       "}\n",
       "#T_abaa1_row5_col2 {\n",
       "  background-color: #c2cbe2;\n",
       "  color: #000000;\n",
       "}\n",
       "#T_abaa1_row5_col3 {\n",
       "  background-color: #c6cce3;\n",
       "  color: #000000;\n",
       "}\n",
       "#T_abaa1_row5_col4 {\n",
       "  background-color: #1379b5;\n",
       "  color: #f1f1f1;\n",
       "}\n",
       "#T_abaa1_row5_col6 {\n",
       "  background-color: #97b7d7;\n",
       "  color: #000000;\n",
       "}\n",
       "#T_abaa1_row5_col7 {\n",
       "  background-color: #b0c2de;\n",
       "  color: #000000;\n",
       "}\n",
       "#T_abaa1_row5_col13 {\n",
       "  background-color: #f5eff6;\n",
       "  color: #000000;\n",
       "}\n",
       "#T_abaa1_row6_col0, #T_abaa1_row7_col9, #T_abaa1_row8_col9 {\n",
       "  background-color: #faf2f8;\n",
       "  color: #000000;\n",
       "}\n",
       "#T_abaa1_row6_col1, #T_abaa1_row6_col2, #T_abaa1_row7_col0 {\n",
       "  background-color: #f7f0f7;\n",
       "  color: #000000;\n",
       "}\n",
       "#T_abaa1_row6_col4, #T_abaa1_row6_col7 {\n",
       "  background-color: #efe9f3;\n",
       "  color: #000000;\n",
       "}\n",
       "#T_abaa1_row6_col5 {\n",
       "  background-color: #f1ebf4;\n",
       "  color: #000000;\n",
       "}\n",
       "#T_abaa1_row6_col6 {\n",
       "  background-color: #e8e4f0;\n",
       "  color: #000000;\n",
       "}\n",
       "#T_abaa1_row6_col8 {\n",
       "  background-color: #f4eef6;\n",
       "  color: #000000;\n",
       "}\n",
       "#T_abaa1_row6_col10, #T_abaa1_row8_col0, #T_abaa1_row9_col3, #T_abaa1_row10_col5, #T_abaa1_row10_col6, #T_abaa1_row10_col7 {\n",
       "  background-color: #fef6fb;\n",
       "  color: #000000;\n",
       "}\n",
       "#T_abaa1_row6_col11 {\n",
       "  background-color: #e5e1ef;\n",
       "  color: #000000;\n",
       "}\n",
       "#T_abaa1_row7_col2, #T_abaa1_row7_col8 {\n",
       "  background-color: #f4edf6;\n",
       "  color: #000000;\n",
       "}\n",
       "#T_abaa1_row7_col4 {\n",
       "  background-color: #f0eaf4;\n",
       "  color: #000000;\n",
       "}\n",
       "#T_abaa1_row7_col6 {\n",
       "  background-color: #bdc8e1;\n",
       "  color: #000000;\n",
       "}\n",
       "#T_abaa1_row8_col1, #T_abaa1_row8_col2, #T_abaa1_row8_col4, #T_abaa1_row8_col5, #T_abaa1_row8_col7, #T_abaa1_row8_col8, #T_abaa1_row9_col7 {\n",
       "  background-color: #fdf5fa;\n",
       "  color: #000000;\n",
       "}\n",
       "#T_abaa1_row8_col3 {\n",
       "  background-color: #fcf4fa;\n",
       "  color: #000000;\n",
       "}\n",
       "#T_abaa1_row8_col6 {\n",
       "  background-color: #faf3f9;\n",
       "  color: #000000;\n",
       "}\n",
       "#T_abaa1_row9_col5, #T_abaa1_row9_col9 {\n",
       "  background-color: #fef6fa;\n",
       "  color: #000000;\n",
       "}\n",
       "#T_abaa1_row10_col3 {\n",
       "  background-color: #f8f1f8;\n",
       "  color: #000000;\n",
       "}\n",
       "</style>\n",
       "<table id=\"T_abaa1\">\n",
       "  <thead>\n",
       "    <tr>\n",
       "      <th class=\"blank level0\" >&nbsp;</th>\n",
       "      <th id=\"T_abaa1_level0_col0\" class=\"col_heading level0 col0\" >electronics</th>\n",
       "      <th id=\"T_abaa1_level0_col1\" class=\"col_heading level0 col1\" >undefined</th>\n",
       "      <th id=\"T_abaa1_level0_col2\" class=\"col_heading level0 col2\" >appliances</th>\n",
       "      <th id=\"T_abaa1_level0_col3\" class=\"col_heading level0 col3\" >computers</th>\n",
       "      <th id=\"T_abaa1_level0_col4\" class=\"col_heading level0 col4\" >furniture</th>\n",
       "      <th id=\"T_abaa1_level0_col5\" class=\"col_heading level0 col5\" >auto</th>\n",
       "      <th id=\"T_abaa1_level0_col6\" class=\"col_heading level0 col6\" >apparel</th>\n",
       "      <th id=\"T_abaa1_level0_col7\" class=\"col_heading level0 col7\" >construction</th>\n",
       "      <th id=\"T_abaa1_level0_col8\" class=\"col_heading level0 col8\" >kids</th>\n",
       "      <th id=\"T_abaa1_level0_col9\" class=\"col_heading level0 col9\" >sport</th>\n",
       "      <th id=\"T_abaa1_level0_col10\" class=\"col_heading level0 col10\" >accessories</th>\n",
       "      <th id=\"T_abaa1_level0_col11\" class=\"col_heading level0 col11\" >medicine</th>\n",
       "      <th id=\"T_abaa1_level0_col12\" class=\"col_heading level0 col12\" >country_yard</th>\n",
       "      <th id=\"T_abaa1_level0_col13\" class=\"col_heading level0 col13\" >stationery</th>\n",
       "    </tr>\n",
       "  </thead>\n",
       "  <tbody>\n",
       "    <tr>\n",
       "      <th id=\"T_abaa1_level0_row0\" class=\"row_heading level0 row0\" >computers</th>\n",
       "      <td id=\"T_abaa1_row0_col0\" class=\"data row0 col0\" >3%</td>\n",
       "      <td id=\"T_abaa1_row0_col1\" class=\"data row0 col1\" >3%</td>\n",
       "      <td id=\"T_abaa1_row0_col2\" class=\"data row0 col2\" >3%</td>\n",
       "      <td id=\"T_abaa1_row0_col3\" class=\"data row0 col3\" >0%</td>\n",
       "      <td id=\"T_abaa1_row0_col4\" class=\"data row0 col4\" >3%</td>\n",
       "      <td id=\"T_abaa1_row0_col5\" class=\"data row0 col5\" >2%</td>\n",
       "      <td id=\"T_abaa1_row0_col6\" class=\"data row0 col6\" >2%</td>\n",
       "      <td id=\"T_abaa1_row0_col7\" class=\"data row0 col7\" >3%</td>\n",
       "      <td id=\"T_abaa1_row0_col8\" class=\"data row0 col8\" >2%</td>\n",
       "      <td id=\"T_abaa1_row0_col9\" class=\"data row0 col9\" >3%</td>\n",
       "      <td id=\"T_abaa1_row0_col10\" class=\"data row0 col10\" >11%</td>\n",
       "      <td id=\"T_abaa1_row0_col11\" class=\"data row0 col11\" >2%</td>\n",
       "      <td id=\"T_abaa1_row0_col12\" class=\"data row0 col12\" >6%</td>\n",
       "      <td id=\"T_abaa1_row0_col13\" class=\"data row0 col13\" >9%</td>\n",
       "    </tr>\n",
       "    <tr>\n",
       "      <th id=\"T_abaa1_level0_row1\" class=\"row_heading level0 row1\" >furniture</th>\n",
       "      <td id=\"T_abaa1_row1_col0\" class=\"data row1 col0\" >1%</td>\n",
       "      <td id=\"T_abaa1_row1_col1\" class=\"data row1 col1\" >2%</td>\n",
       "      <td id=\"T_abaa1_row1_col2\" class=\"data row1 col2\" >2%</td>\n",
       "      <td id=\"T_abaa1_row1_col3\" class=\"data row1 col3\" >1%</td>\n",
       "      <td id=\"T_abaa1_row1_col4\" class=\"data row1 col4\" >0%</td>\n",
       "      <td id=\"T_abaa1_row1_col5\" class=\"data row1 col5\" >1%</td>\n",
       "      <td id=\"T_abaa1_row1_col6\" class=\"data row1 col6\" >2%</td>\n",
       "      <td id=\"T_abaa1_row1_col7\" class=\"data row1 col7\" >2%</td>\n",
       "      <td id=\"T_abaa1_row1_col8\" class=\"data row1 col8\" >4%</td>\n",
       "      <td id=\"T_abaa1_row1_col9\" class=\"data row1 col9\" >3%</td>\n",
       "      <td id=\"T_abaa1_row1_col10\" class=\"data row1 col10\" >1%</td>\n",
       "      <td id=\"T_abaa1_row1_col11\" class=\"data row1 col11\" >1%</td>\n",
       "      <td id=\"T_abaa1_row1_col12\" class=\"data row1 col12\" >2%</td>\n",
       "      <td id=\"T_abaa1_row1_col13\" class=\"data row1 col13\" >1%</td>\n",
       "    </tr>\n",
       "    <tr>\n",
       "      <th id=\"T_abaa1_level0_row2\" class=\"row_heading level0 row2\" >auto</th>\n",
       "      <td id=\"T_abaa1_row2_col0\" class=\"data row2 col0\" >1%</td>\n",
       "      <td id=\"T_abaa1_row2_col1\" class=\"data row2 col1\" >1%</td>\n",
       "      <td id=\"T_abaa1_row2_col2\" class=\"data row2 col2\" >1%</td>\n",
       "      <td id=\"T_abaa1_row2_col3\" class=\"data row2 col3\" >1%</td>\n",
       "      <td id=\"T_abaa1_row2_col4\" class=\"data row2 col4\" >1%</td>\n",
       "      <td id=\"T_abaa1_row2_col5\" class=\"data row2 col5\" >0%</td>\n",
       "      <td id=\"T_abaa1_row2_col6\" class=\"data row2 col6\" >1%</td>\n",
       "      <td id=\"T_abaa1_row2_col7\" class=\"data row2 col7\" >2%</td>\n",
       "      <td id=\"T_abaa1_row2_col8\" class=\"data row2 col8\" >1%</td>\n",
       "      <td id=\"T_abaa1_row2_col9\" class=\"data row2 col9\" >1%</td>\n",
       "      <td id=\"T_abaa1_row2_col10\" class=\"data row2 col10\" >1%</td>\n",
       "      <td id=\"T_abaa1_row2_col11\" class=\"data row2 col11\" >1%</td>\n",
       "      <td id=\"T_abaa1_row2_col12\" class=\"data row2 col12\" >5%</td>\n",
       "      <td id=\"T_abaa1_row2_col13\" class=\"data row2 col13\" >1%</td>\n",
       "    </tr>\n",
       "    <tr>\n",
       "      <th id=\"T_abaa1_level0_row3\" class=\"row_heading level0 row3\" >apparel</th>\n",
       "      <td id=\"T_abaa1_row3_col0\" class=\"data row3 col0\" >1%</td>\n",
       "      <td id=\"T_abaa1_row3_col1\" class=\"data row3 col1\" >2%</td>\n",
       "      <td id=\"T_abaa1_row3_col2\" class=\"data row3 col2\" >2%</td>\n",
       "      <td id=\"T_abaa1_row3_col3\" class=\"data row3 col3\" >1%</td>\n",
       "      <td id=\"T_abaa1_row3_col4\" class=\"data row3 col4\" >3%</td>\n",
       "      <td id=\"T_abaa1_row3_col5\" class=\"data row3 col5\" >1%</td>\n",
       "      <td id=\"T_abaa1_row3_col6\" class=\"data row3 col6\" >0%</td>\n",
       "      <td id=\"T_abaa1_row3_col7\" class=\"data row3 col7\" >1%</td>\n",
       "      <td id=\"T_abaa1_row3_col8\" class=\"data row3 col8\" >3%</td>\n",
       "      <td id=\"T_abaa1_row3_col9\" class=\"data row3 col9\" >2%</td>\n",
       "      <td id=\"T_abaa1_row3_col10\" class=\"data row3 col10\" >6%</td>\n",
       "      <td id=\"T_abaa1_row3_col11\" class=\"data row3 col11\" >3%</td>\n",
       "      <td id=\"T_abaa1_row3_col12\" class=\"data row3 col12\" >1%</td>\n",
       "      <td id=\"T_abaa1_row3_col13\" class=\"data row3 col13\" >6%</td>\n",
       "    </tr>\n",
       "    <tr>\n",
       "      <th id=\"T_abaa1_level0_row4\" class=\"row_heading level0 row4\" >construction</th>\n",
       "      <td id=\"T_abaa1_row4_col0\" class=\"data row4 col0\" >1%</td>\n",
       "      <td id=\"T_abaa1_row4_col1\" class=\"data row4 col1\" >1%</td>\n",
       "      <td id=\"T_abaa1_row4_col2\" class=\"data row4 col2\" >1%</td>\n",
       "      <td id=\"T_abaa1_row4_col3\" class=\"data row4 col3\" >1%</td>\n",
       "      <td id=\"T_abaa1_row4_col4\" class=\"data row4 col4\" >1%</td>\n",
       "      <td id=\"T_abaa1_row4_col5\" class=\"data row4 col5\" >1%</td>\n",
       "      <td id=\"T_abaa1_row4_col6\" class=\"data row4 col6\" >1%</td>\n",
       "      <td id=\"T_abaa1_row4_col7\" class=\"data row4 col7\" >0%</td>\n",
       "      <td id=\"T_abaa1_row4_col8\" class=\"data row4 col8\" >1%</td>\n",
       "      <td id=\"T_abaa1_row4_col9\" class=\"data row4 col9\" >1%</td>\n",
       "      <td id=\"T_abaa1_row4_col10\" class=\"data row4 col10\" >1%</td>\n",
       "      <td id=\"T_abaa1_row4_col11\" class=\"data row4 col11\" >1%</td>\n",
       "      <td id=\"T_abaa1_row4_col12\" class=\"data row4 col12\" >7%</td>\n",
       "      <td id=\"T_abaa1_row4_col13\" class=\"data row4 col13\" >2%</td>\n",
       "    </tr>\n",
       "    <tr>\n",
       "      <th id=\"T_abaa1_level0_row5\" class=\"row_heading level0 row5\" >kids</th>\n",
       "      <td id=\"T_abaa1_row5_col0\" class=\"data row5 col0\" >0%</td>\n",
       "      <td id=\"T_abaa1_row5_col1\" class=\"data row5 col1\" >1%</td>\n",
       "      <td id=\"T_abaa1_row5_col2\" class=\"data row5 col2\" >1%</td>\n",
       "      <td id=\"T_abaa1_row5_col3\" class=\"data row5 col3\" >0%</td>\n",
       "      <td id=\"T_abaa1_row5_col4\" class=\"data row5 col4\" >2%</td>\n",
       "      <td id=\"T_abaa1_row5_col5\" class=\"data row5 col5\" >0%</td>\n",
       "      <td id=\"T_abaa1_row5_col6\" class=\"data row5 col6\" >1%</td>\n",
       "      <td id=\"T_abaa1_row5_col7\" class=\"data row5 col7\" >1%</td>\n",
       "      <td id=\"T_abaa1_row5_col8\" class=\"data row5 col8\" >0%</td>\n",
       "      <td id=\"T_abaa1_row5_col9\" class=\"data row5 col9\" >1%</td>\n",
       "      <td id=\"T_abaa1_row5_col10\" class=\"data row5 col10\" >1%</td>\n",
       "      <td id=\"T_abaa1_row5_col11\" class=\"data row5 col11\" >1%</td>\n",
       "      <td id=\"T_abaa1_row5_col12\" class=\"data row5 col12\" >0%</td>\n",
       "      <td id=\"T_abaa1_row5_col13\" class=\"data row5 col13\" >1%</td>\n",
       "    </tr>\n",
       "    <tr>\n",
       "      <th id=\"T_abaa1_level0_row6\" class=\"row_heading level0 row6\" >sport</th>\n",
       "      <td id=\"T_abaa1_row6_col0\" class=\"data row6 col0\" >0%</td>\n",
       "      <td id=\"T_abaa1_row6_col1\" class=\"data row6 col1\" >0%</td>\n",
       "      <td id=\"T_abaa1_row6_col2\" class=\"data row6 col2\" >0%</td>\n",
       "      <td id=\"T_abaa1_row6_col3\" class=\"data row6 col3\" >0%</td>\n",
       "      <td id=\"T_abaa1_row6_col4\" class=\"data row6 col4\" >0%</td>\n",
       "      <td id=\"T_abaa1_row6_col5\" class=\"data row6 col5\" >0%</td>\n",
       "      <td id=\"T_abaa1_row6_col6\" class=\"data row6 col6\" >0%</td>\n",
       "      <td id=\"T_abaa1_row6_col7\" class=\"data row6 col7\" >0%</td>\n",
       "      <td id=\"T_abaa1_row6_col8\" class=\"data row6 col8\" >0%</td>\n",
       "      <td id=\"T_abaa1_row6_col9\" class=\"data row6 col9\" >0%</td>\n",
       "      <td id=\"T_abaa1_row6_col10\" class=\"data row6 col10\" >0%</td>\n",
       "      <td id=\"T_abaa1_row6_col11\" class=\"data row6 col11\" >1%</td>\n",
       "      <td id=\"T_abaa1_row6_col12\" class=\"data row6 col12\" >1%</td>\n",
       "      <td id=\"T_abaa1_row6_col13\" class=\"data row6 col13\" >0%</td>\n",
       "    </tr>\n",
       "    <tr>\n",
       "      <th id=\"T_abaa1_level0_row7\" class=\"row_heading level0 row7\" >accessories</th>\n",
       "      <td id=\"T_abaa1_row7_col0\" class=\"data row7 col0\" >0%</td>\n",
       "      <td id=\"T_abaa1_row7_col1\" class=\"data row7 col1\" >0%</td>\n",
       "      <td id=\"T_abaa1_row7_col2\" class=\"data row7 col2\" >0%</td>\n",
       "      <td id=\"T_abaa1_row7_col3\" class=\"data row7 col3\" >1%</td>\n",
       "      <td id=\"T_abaa1_row7_col4\" class=\"data row7 col4\" >0%</td>\n",
       "      <td id=\"T_abaa1_row7_col5\" class=\"data row7 col5\" >0%</td>\n",
       "      <td id=\"T_abaa1_row7_col6\" class=\"data row7 col6\" >1%</td>\n",
       "      <td id=\"T_abaa1_row7_col7\" class=\"data row7 col7\" >0%</td>\n",
       "      <td id=\"T_abaa1_row7_col8\" class=\"data row7 col8\" >0%</td>\n",
       "      <td id=\"T_abaa1_row7_col9\" class=\"data row7 col9\" >0%</td>\n",
       "      <td id=\"T_abaa1_row7_col10\" class=\"data row7 col10\" >0%</td>\n",
       "      <td id=\"T_abaa1_row7_col11\" class=\"data row7 col11\" >0%</td>\n",
       "      <td id=\"T_abaa1_row7_col12\" class=\"data row7 col12\" >0%</td>\n",
       "      <td id=\"T_abaa1_row7_col13\" class=\"data row7 col13\" >0%</td>\n",
       "    </tr>\n",
       "    <tr>\n",
       "      <th id=\"T_abaa1_level0_row8\" class=\"row_heading level0 row8\" >medicine</th>\n",
       "      <td id=\"T_abaa1_row8_col0\" class=\"data row8 col0\" >0%</td>\n",
       "      <td id=\"T_abaa1_row8_col1\" class=\"data row8 col1\" >0%</td>\n",
       "      <td id=\"T_abaa1_row8_col2\" class=\"data row8 col2\" >0%</td>\n",
       "      <td id=\"T_abaa1_row8_col3\" class=\"data row8 col3\" >0%</td>\n",
       "      <td id=\"T_abaa1_row8_col4\" class=\"data row8 col4\" >0%</td>\n",
       "      <td id=\"T_abaa1_row8_col5\" class=\"data row8 col5\" >0%</td>\n",
       "      <td id=\"T_abaa1_row8_col6\" class=\"data row8 col6\" >0%</td>\n",
       "      <td id=\"T_abaa1_row8_col7\" class=\"data row8 col7\" >0%</td>\n",
       "      <td id=\"T_abaa1_row8_col8\" class=\"data row8 col8\" >0%</td>\n",
       "      <td id=\"T_abaa1_row8_col9\" class=\"data row8 col9\" >0%</td>\n",
       "      <td id=\"T_abaa1_row8_col10\" class=\"data row8 col10\" >0%</td>\n",
       "      <td id=\"T_abaa1_row8_col11\" class=\"data row8 col11\" >0%</td>\n",
       "      <td id=\"T_abaa1_row8_col12\" class=\"data row8 col12\" >0%</td>\n",
       "      <td id=\"T_abaa1_row8_col13\" class=\"data row8 col13\" >0%</td>\n",
       "    </tr>\n",
       "    <tr>\n",
       "      <th id=\"T_abaa1_level0_row9\" class=\"row_heading level0 row9\" >country_yard</th>\n",
       "      <td id=\"T_abaa1_row9_col0\" class=\"data row9 col0\" >0%</td>\n",
       "      <td id=\"T_abaa1_row9_col1\" class=\"data row9 col1\" >0%</td>\n",
       "      <td id=\"T_abaa1_row9_col2\" class=\"data row9 col2\" >0%</td>\n",
       "      <td id=\"T_abaa1_row9_col3\" class=\"data row9 col3\" >0%</td>\n",
       "      <td id=\"T_abaa1_row9_col4\" class=\"data row9 col4\" >0%</td>\n",
       "      <td id=\"T_abaa1_row9_col5\" class=\"data row9 col5\" >0%</td>\n",
       "      <td id=\"T_abaa1_row9_col6\" class=\"data row9 col6\" >0%</td>\n",
       "      <td id=\"T_abaa1_row9_col7\" class=\"data row9 col7\" >0%</td>\n",
       "      <td id=\"T_abaa1_row9_col8\" class=\"data row9 col8\" >0%</td>\n",
       "      <td id=\"T_abaa1_row9_col9\" class=\"data row9 col9\" >0%</td>\n",
       "      <td id=\"T_abaa1_row9_col10\" class=\"data row9 col10\" >0%</td>\n",
       "      <td id=\"T_abaa1_row9_col11\" class=\"data row9 col11\" >0%</td>\n",
       "      <td id=\"T_abaa1_row9_col12\" class=\"data row9 col12\" >0%</td>\n",
       "      <td id=\"T_abaa1_row9_col13\" class=\"data row9 col13\" >0%</td>\n",
       "    </tr>\n",
       "    <tr>\n",
       "      <th id=\"T_abaa1_level0_row10\" class=\"row_heading level0 row10\" >stationery</th>\n",
       "      <td id=\"T_abaa1_row10_col0\" class=\"data row10 col0\" >0%</td>\n",
       "      <td id=\"T_abaa1_row10_col1\" class=\"data row10 col1\" >0%</td>\n",
       "      <td id=\"T_abaa1_row10_col2\" class=\"data row10 col2\" >0%</td>\n",
       "      <td id=\"T_abaa1_row10_col3\" class=\"data row10 col3\" >0%</td>\n",
       "      <td id=\"T_abaa1_row10_col4\" class=\"data row10 col4\" >0%</td>\n",
       "      <td id=\"T_abaa1_row10_col5\" class=\"data row10 col5\" >0%</td>\n",
       "      <td id=\"T_abaa1_row10_col6\" class=\"data row10 col6\" >0%</td>\n",
       "      <td id=\"T_abaa1_row10_col7\" class=\"data row10 col7\" >0%</td>\n",
       "      <td id=\"T_abaa1_row10_col8\" class=\"data row10 col8\" >0%</td>\n",
       "      <td id=\"T_abaa1_row10_col9\" class=\"data row10 col9\" >0%</td>\n",
       "      <td id=\"T_abaa1_row10_col10\" class=\"data row10 col10\" >0%</td>\n",
       "      <td id=\"T_abaa1_row10_col11\" class=\"data row10 col11\" >0%</td>\n",
       "      <td id=\"T_abaa1_row10_col12\" class=\"data row10 col12\" >0%</td>\n",
       "      <td id=\"T_abaa1_row10_col13\" class=\"data row10 col13\" >0%</td>\n",
       "    </tr>\n",
       "  </tbody>\n",
       "</table>\n"
      ],
      "text/plain": [
       "<pandas.io.formats.style.Styler at 0x22f24f2a810>"
      ]
     },
     "execution_count": 65,
     "metadata": {},
     "output_type": "execute_result"
    }
   ],
   "source": [
    "(\n",
    "df_cat_frequency\n",
    ".loc[~df_cat_frequency.index.get_level_values(0).isin(['electronics', 'undefined', 'appliances']), :]\n",
    ".style\n",
    ".format('{:,.0%}')\n",
    ".background_gradient()\n",
    ")"
   ]
  },
  {
   "attachments": {},
   "cell_type": "markdown",
   "metadata": {},
   "source": [
    "Based on the information about:\n",
    "- We can sell `electronics` and `appliances` to every user, regardless of their primary interests.\n",
    "- You can sell `furniture` for the users, who are interested in `kids` category. If the person has a kid, they also have a household, that require furniture.\n",
    "- `accessories` can be offered for the `computer` and `apparel` users.\n",
    "- `country_yard` can be offered for the users, who are interested in `computers`, `auto`, `construction`.\n",
    "- `stationery` can be offered for the users, who are interested in `computers`, `apparel`."
   ]
  }
 ],
 "metadata": {
  "kernelspec": {
   "display_name": "venv",
   "language": "python",
   "name": "python3"
  },
  "language_info": {
   "codemirror_mode": {
    "name": "ipython",
    "version": 3
   },
   "file_extension": ".py",
   "mimetype": "text/x-python",
   "name": "python",
   "nbconvert_exporter": "python",
   "pygments_lexer": "ipython3",
   "version": "3.11.2"
  },
  "orig_nbformat": 4
 },
 "nbformat": 4,
 "nbformat_minor": 2
}
